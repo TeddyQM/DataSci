{
  "nbformat": 4,
  "nbformat_minor": 0,
  "metadata": {
    "colab": {
      "provenance": [],
      "authorship_tag": "ABX9TyM+Xyjgv7IFk8Td0CotNJ/B",
      "include_colab_link": true
    },
    "kernelspec": {
      "name": "python3",
      "display_name": "Python 3"
    },
    "language_info": {
      "name": "python"
    }
  },
  "cells": [
    {
      "cell_type": "markdown",
      "metadata": {
        "id": "view-in-github",
        "colab_type": "text"
      },
      "source": [
        "<a href=\"https://colab.research.google.com/github/TeddyQM/DataSci/blob/main/PYTHON_STUDY_GUIDE.ipynb\" target=\"_parent\"><img src=\"https://colab.research.google.com/assets/colab-badge.svg\" alt=\"Open In Colab\"/></a>"
      ]
    },
    {
      "cell_type": "code",
      "execution_count": null,
      "metadata": {
        "id": "rQuJduCVKiUM"
      },
      "outputs": [],
      "source": []
    },
    {
      "cell_type": "markdown",
      "source": [
        "**Variables**: Variables allow you to use a name to refer to a value.\n",
        "\n",
        "\n",
        "*   Can be A-z, underscores are allowed, cannot start with a number\n",
        "*   Variables are case sensitive\n",
        "*   Variables must start with a letter or underscore\n",
        "*   Other types of variables: Integer, String, Boolean, Dictionaries\n",
        "\n",
        "\n",
        "\n",
        "\n",
        "\n",
        "\n"
      ],
      "metadata": {
        "id": "ENdQyF_GLdln"
      }
    },
    {
      "cell_type": "code",
      "source": [
        "favorite_number = 9\n",
        "print(favorite_number)"
      ],
      "metadata": {
        "colab": {
          "base_uri": "https://localhost:8080/"
        },
        "id": "7m0E9on5Mebk",
        "outputId": "8afe4b18-c11d-44fc-b619-7c3ee344dd3b"
      },
      "execution_count": 1,
      "outputs": [
        {
          "output_type": "stream",
          "name": "stdout",
          "text": [
            "9\n"
          ]
        }
      ]
    },
    {
      "cell_type": "markdown",
      "source": [
        "Integers: Variables that are values of numbers/negative numbers"
      ],
      "metadata": {
        "id": "tMQTFr2DL7Hw"
      }
    },
    {
      "cell_type": "code",
      "source": [
        "days_in_a_year = 365\n",
        "print(days_in_a_year)\n"
      ],
      "metadata": {
        "colab": {
          "base_uri": "https://localhost:8080/"
        },
        "id": "R8Mw422LNfv2",
        "outputId": "ea9f0a07-abb4-4f4a-b71d-b407f2d85ef6"
      },
      "execution_count": 2,
      "outputs": [
        {
          "output_type": "stream",
          "name": "stdout",
          "text": [
            "365\n"
          ]
        }
      ]
    },
    {
      "cell_type": "markdown",
      "source": [
        "Floats: Variables that are decimals"
      ],
      "metadata": {
        "id": "4j14qc82OWIT"
      }
    },
    {
      "cell_type": "code",
      "source": [
        "pi_math = 3.14159\n",
        "print (pi_math)"
      ],
      "metadata": {
        "colab": {
          "base_uri": "https://localhost:8080/"
        },
        "id": "EUEFz-m0Of1J",
        "outputId": "1f56a8c5-f8aa-4075-8a13-0ed3d2b61c89"
      },
      "execution_count": 3,
      "outputs": [
        {
          "output_type": "stream",
          "name": "stdout",
          "text": [
            "3.14159\n"
          ]
        }
      ]
    },
    {
      "cell_type": "markdown",
      "source": [
        "String: Variables that are statements\n",
        "\n",
        "*   Strings must be enclosed by quotation marks\n",
        "\n"
      ],
      "metadata": {
        "id": "mqR7aNISO0rv"
      }
    },
    {
      "cell_type": "code",
      "source": [
        "welcome_teddy = \"Greetings, to my people!\"\n",
        "print(welcome_teddy)"
      ],
      "metadata": {
        "colab": {
          "base_uri": "https://localhost:8080/"
        },
        "id": "4e77SDi_PDvr",
        "outputId": "aa555c6c-a204-4d0c-9301-b0d7d458511e"
      },
      "execution_count": 4,
      "outputs": [
        {
          "output_type": "stream",
          "name": "stdout",
          "text": [
            "Greetings, to my people!\n"
          ]
        }
      ]
    },
    {
      "cell_type": "markdown",
      "source": [
        "Booleans: Variables that are true false statements\n"
      ],
      "metadata": {
        "id": "4scSLPV8PPkW"
      }
    },
    {
      "cell_type": "code",
      "source": [
        "happy_me = \"true\"\n",
        "print (happy_me)"
      ],
      "metadata": {
        "colab": {
          "base_uri": "https://localhost:8080/"
        },
        "id": "SPkbgDG2PsK7",
        "outputId": "61947f8c-c481-4244-df72-4ce6ed2b31f1"
      },
      "execution_count": 6,
      "outputs": [
        {
          "output_type": "stream",
          "name": "stdout",
          "text": [
            "true\n"
          ]
        }
      ]
    },
    {
      "cell_type": "markdown",
      "source": [
        "Lists: Variables that are put into a list of items\n",
        "\n",
        "\n",
        "*   must be enclosed by brackets\n",
        "*   string statements must have quotation marks around them\n",
        "*   if you are putting a defined variable in the list it doesnt need to be in quotation marks\n",
        "\n",
        "\n",
        "\n",
        "\n"
      ],
      "metadata": {
        "id": "cv51xZWtPzK3"
      }
    },
    {
      "cell_type": "code",
      "source": [
        "a_weird_list = [\"candle\", \"shoe\", welcome_teddy]\n",
        "print(a_weird_list)\n"
      ],
      "metadata": {
        "colab": {
          "base_uri": "https://localhost:8080/"
        },
        "id": "eTMwA6_wP9Dv",
        "outputId": "866f3c1e-9f9f-4951-ae6b-0b43adcbfbaf"
      },
      "execution_count": 9,
      "outputs": [
        {
          "output_type": "stream",
          "name": "stdout",
          "text": [
            "['candle', 'shoe', 'Greetings, to my people!']\n"
          ]
        }
      ]
    },
    {
      "cell_type": "markdown",
      "source": [
        "Indexing: a way to access different members of a list\n",
        "*   starts at 0!!!\n",
        "\n",
        "\n",
        "*   can see what number index a term is by doing *term*_index = *name of list.index(\"term')\n",
        "\n",
        "\n",
        "\n"
      ],
      "metadata": {
        "id": "F7ofOoxRQw4t"
      }
    },
    {
      "cell_type": "code",
      "source": [
        "a_weird_list [1]\n"
      ],
      "metadata": {
        "colab": {
          "base_uri": "https://localhost:8080/",
          "height": 35
        },
        "id": "F9ty-vyKQ8Kj",
        "outputId": "c262d255-a9e3-4d71-8bc4-0c8b74fbac66"
      },
      "execution_count": 12,
      "outputs": [
        {
          "output_type": "execute_result",
          "data": {
            "text/plain": [
              "'shoe'"
            ],
            "application/vnd.google.colaboratory.intrinsic+json": {
              "type": "string"
            }
          },
          "metadata": {},
          "execution_count": 12
        }
      ]
    },
    {
      "cell_type": "code",
      "source": [
        "candle_index = a_weird_list.index(\"candle\")\n",
        "candle_index"
      ],
      "metadata": {
        "colab": {
          "base_uri": "https://localhost:8080/"
        },
        "id": "9CllRqzZRaKX",
        "outputId": "a1682b67-6227-4829-9f50-b7e638e774a7"
      },
      "execution_count": 19,
      "outputs": [
        {
          "output_type": "execute_result",
          "data": {
            "text/plain": [
              "0"
            ]
          },
          "metadata": {},
          "execution_count": 19
        }
      ]
    },
    {
      "cell_type": "markdown",
      "source": [
        "Arguments and Functions: an argument is a value that you pass to a function when you call it. a function is a block of organized, reusable code that performs a specific task\n",
        "\n",
        "\n",
        "*   arguments are the statement inside the parentheses\n",
        "*   functions take the form of def *function* (argument)\n",
        "*   when you call the function with different arguments, it produces different outputs\n",
        "*   Math operations\n",
        " addition = +\n",
        "\n",
        " subtraction = -\n",
        "\n",
        " multiplication = *\n",
        "\n",
        " division = /\n",
        "\n",
        " exponentiation = **\n",
        "\n",
        " remiander, gives the remainder only, upon division = %\n",
        "\n",
        " floor division, gives the quotient only, upon division = //\n",
        "\n",
        "\n",
        "\n",
        "\n",
        "\n",
        "\n"
      ],
      "metadata": {
        "id": "0rNGZeHvQycP"
      }
    },
    {
      "cell_type": "code",
      "source": [
        "def divide(a,b):\n",
        "  r = a % b\n",
        "  q = a//b\n",
        "  print(str(a) + \" divided by \" + str(b) + \" equals \" + str(q) + \" with a remainder of \" + str(r))\n",
        "divide(17,5)"
      ],
      "metadata": {
        "colab": {
          "base_uri": "https://localhost:8080/"
        },
        "id": "gAgEIuYxVNOK",
        "outputId": "f41b3570-4b5b-41c6-c53f-344875d18a80"
      },
      "execution_count": 28,
      "outputs": [
        {
          "output_type": "stream",
          "name": "stdout",
          "text": [
            "17 divided by 5 equals 3 with a remainder of 2\n"
          ]
        }
      ]
    }
  ]
}