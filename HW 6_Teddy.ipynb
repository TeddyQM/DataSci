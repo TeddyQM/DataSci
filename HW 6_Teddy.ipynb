{
  "cells": [
    {
      "cell_type": "markdown",
      "metadata": {
        "id": "view-in-github",
        "colab_type": "text"
      },
      "source": [
        "<a href=\"https://colab.research.google.com/github/TeddyQM/DataSci/blob/main/HW%206_Teddy.ipynb\" target=\"_parent\"><img src=\"https://colab.research.google.com/assets/colab-badge.svg\" alt=\"Open In Colab\"/></a>"
      ]
    },
    {
      "cell_type": "markdown",
      "metadata": {
        "id": "L_nKffgWPs-1"
      },
      "source": [
        "## Pandas exercises 1\n",
        "\n",
        "1. Import dependencies"
      ]
    },
    {
      "cell_type": "code",
      "execution_count": null,
      "metadata": {
        "id": "hASl6yoNPs-2"
      },
      "outputs": [],
      "source": [
        "import numpy as np\n",
        "import pandas as pd\n"
      ]
    },
    {
      "cell_type": "markdown",
      "metadata": {
        "id": "33KUt_fEPs-2"
      },
      "source": [
        "---"
      ]
    },
    {
      "cell_type": "code",
      "execution_count": null,
      "metadata": {
        "id": "ZZmr1aIoPs-3"
      },
      "outputs": [],
      "source": [
        "list = [98, 24, 46, 87, 33]"
      ]
    },
    {
      "cell_type": "markdown",
      "metadata": {
        "id": "jGSEPEqXPs-3"
      },
      "source": [
        "2. Convert `list` to a pandas series using `pd.Series`"
      ]
    },
    {
      "cell_type": "code",
      "execution_count": null,
      "metadata": {
        "id": "nZ1y9HF6Ps-3",
        "outputId": "58896886-2f54-4d71-d733-da9228c30a39",
        "colab": {
          "base_uri": "https://localhost:8080/"
        }
      },
      "outputs": [
        {
          "output_type": "stream",
          "name": "stdout",
          "text": [
            "0    98\n",
            "1    24\n",
            "2    46\n",
            "3    87\n",
            "4    33\n",
            "dtype: int64\n"
          ]
        }
      ],
      "source": [
        "data_list = [98, 24, 46, 87, 33]\n",
        "series_data = pd.Series(data_list)\n",
        "print(series_data)"
      ]
    },
    {
      "cell_type": "markdown",
      "metadata": {
        "id": "rORNi5YyPs-4"
      },
      "source": [
        "3. Take the above series and add an index that starts at 2 and steps by 3"
      ]
    },
    {
      "cell_type": "code",
      "execution_count": null,
      "metadata": {
        "id": "YC8f3lAMPs-4",
        "outputId": "80d66e5a-b8f7-4a87-930a-127bca96cd6e",
        "colab": {
          "base_uri": "https://localhost:8080/"
        }
      },
      "outputs": [
        {
          "output_type": "stream",
          "name": "stdout",
          "text": [
            "2     98\n",
            "5     24\n",
            "8     46\n",
            "11    87\n",
            "14    33\n",
            "dtype: int64\n"
          ]
        }
      ],
      "source": [
        "new_index = range(2, len(series_data) * 3, 3)\n",
        "series_data.index = new_index\n",
        "print(series_data)"
      ]
    },
    {
      "cell_type": "markdown",
      "metadata": {
        "id": "2P199KkwPs-4"
      },
      "source": [
        "4. Create a dictionary of 4 names, ages, and careers   \n",
        "Convert this dictionary to a pandas dataframe: `df`.  \n",
        "Print the dataframe."
      ]
    },
    {
      "cell_type": "code",
      "execution_count": 7,
      "metadata": {
        "id": "lWoGNi5hPs-5",
        "outputId": "5334c9be-8e21-4773-be46-6e8438d43373",
        "colab": {
          "base_uri": "https://localhost:8080/"
        }
      },
      "outputs": [
        {
          "output_type": "stream",
          "name": "stdout",
          "text": [
            "   names    careers  age\n",
            "0  Teddy       Chef   22\n",
            "1  Sarah    Teacher   20\n",
            "2   Nate  Economist   20\n",
            "3    Sam  Accoutant   21\n"
          ]
        }
      ],
      "source": [
        "import pandas as pd\n",
        "data_dict = {\n",
        "  \"names\": ['Teddy', 'Sarah', 'Nate', 'Sam'],\n",
        "  \"careers\": ['Chef', 'Teacher', 'Economist', 'Accoutant'],\n",
        "  \"age\": [22, 20, 20, 21]\n",
        "}\n",
        "df = pd.DataFrame(data_dict)\n",
        "print(df)\n",
        "\n",
        "\n"
      ]
    },
    {
      "cell_type": "markdown",
      "metadata": {
        "id": "TD-Ej1K_Ps-5"
      },
      "source": [
        "5. Name the index of `df` 'participant_id'.  \n",
        "Print `df`."
      ]
    },
    {
      "cell_type": "code",
      "execution_count": 8,
      "metadata": {
        "id": "_54NO6pRPs-5",
        "outputId": "ea742d39-f1e4-4179-d6bf-322696877446",
        "colab": {
          "base_uri": "https://localhost:8080/"
        }
      },
      "outputs": [
        {
          "output_type": "stream",
          "name": "stdout",
          "text": [
            "                names    careers  age\n",
            "participant_id                       \n",
            "0               Teddy       Chef   22\n",
            "1               Sarah    Teacher   20\n",
            "2                Nate  Economist   20\n",
            "3                 Sam  Accoutant   21\n"
          ]
        }
      ],
      "source": [
        "df = pd.DataFrame(data_dict)\n",
        "df = df.rename_axis('participant_id')\n",
        "\n",
        "print(df)\n"
      ]
    },
    {
      "cell_type": "markdown",
      "metadata": {
        "id": "-JXKN55IPs-5"
      },
      "source": [
        "6. Use a pandas function to determine the data types of the columns of `df`."
      ]
    },
    {
      "cell_type": "code",
      "execution_count": 9,
      "metadata": {
        "id": "pmbPdPYmPs-5",
        "outputId": "b272e494-7788-4f1a-ed31-b00d85856dfc",
        "colab": {
          "base_uri": "https://localhost:8080/"
        }
      },
      "outputs": [
        {
          "output_type": "stream",
          "name": "stdout",
          "text": [
            "names      object\n",
            "careers    object\n",
            "age         int64\n",
            "dtype: object\n"
          ]
        }
      ],
      "source": [
        "column_data_types = df.dtypes\n",
        "\n",
        "print(column_data_types)"
      ]
    },
    {
      "cell_type": "markdown",
      "metadata": {
        "id": "67Yv1vrcPs-5"
      },
      "source": [
        "7. Using bracket notation, reference column `name`"
      ]
    },
    {
      "cell_type": "code",
      "execution_count": 26,
      "metadata": {
        "id": "KvYDyocgPs-6",
        "outputId": "57234a52-266f-49ba-c145-7bd3aaec30c9",
        "colab": {
          "base_uri": "https://localhost:8080/"
        }
      },
      "outputs": [
        {
          "output_type": "stream",
          "name": "stdout",
          "text": [
            "participant_id\n",
            "0    Teddy\n",
            "1    Sarah\n",
            "2     Nate\n",
            "3      Sam\n",
            "Name: names, dtype: object\n"
          ]
        }
      ],
      "source": [
        "column_name_data = df['names']\n",
        "print(column_name_data)"
      ]
    },
    {
      "cell_type": "markdown",
      "metadata": {
        "id": "m3cxo1_DPs-6"
      },
      "source": [
        "8. Using dot notation, reference column `name`"
      ]
    },
    {
      "cell_type": "code",
      "execution_count": 25,
      "metadata": {
        "id": "1GWDNZpDPs-6",
        "outputId": "8e20af82-d81c-4449-84f7-7f74b0ee1992",
        "colab": {
          "base_uri": "https://localhost:8080/"
        }
      },
      "outputs": [
        {
          "output_type": "stream",
          "name": "stdout",
          "text": [
            "participant_id\n",
            "0    Teddy\n",
            "1    Sarah\n",
            "2     Nate\n",
            "3      Sam\n",
            "Name: names, dtype: object\n"
          ]
        }
      ],
      "source": [
        "column_name_data = df.names\n",
        "print(df.names)"
      ]
    },
    {
      "cell_type": "markdown",
      "metadata": {
        "id": "QXcydAo-Ps-6"
      },
      "source": [
        "8. Reference column `name` and have it returned in a dataframe."
      ]
    },
    {
      "cell_type": "code",
      "execution_count": 33,
      "metadata": {
        "id": "Es6jw5eKPs-6",
        "outputId": "519784c5-1b0b-4fc5-cdb5-aa9f537a3538",
        "colab": {
          "base_uri": "https://localhost:8080/"
        }
      },
      "outputs": [
        {
          "output_type": "stream",
          "name": "stdout",
          "text": [
            "                names\n",
            "participant_id       \n",
            "0               Teddy\n",
            "1               Sarah\n",
            "2                Nate\n",
            "3                 Sam\n"
          ]
        }
      ],
      "source": [
        "column_name_df = pd.DataFrame(df['names'])\n",
        "\n",
        "print(column_name_df)"
      ]
    },
    {
      "cell_type": "markdown",
      "metadata": {
        "id": "FGvwXkmsPs-6"
      },
      "source": [
        "9. Show the 3rd element in column `career`."
      ]
    },
    {
      "cell_type": "code",
      "execution_count": 35,
      "metadata": {
        "id": "9DFRMXJ-Ps-6",
        "outputId": "6c082146-610a-44bb-f4d5-847965e7297a",
        "colab": {
          "base_uri": "https://localhost:8080/"
        }
      },
      "outputs": [
        {
          "output_type": "stream",
          "name": "stdout",
          "text": [
            "Economist\n"
          ]
        }
      ],
      "source": [
        "third_element_careers = df['careers'].iloc[2]\n",
        "\n",
        "print(third_element_careers)"
      ]
    },
    {
      "cell_type": "markdown",
      "source": [
        "10.  Load the `iris` dataset that we used in class.  Use `iris` as the name of your data frame."
      ],
      "metadata": {
        "id": "rRH599bKtjbE"
      }
    },
    {
      "cell_type": "code",
      "source": [
        "import seaborn as sns\n",
        "iris = sns.load_dataset('iris')\n",
        "iris_df = pd.DataFrame(iris, columns=iris.columns)\n",
        "iris_df.name = \"iris\"\n",
        "print(iris_df)\n",
        "\n",
        "\n",
        "\n"
      ],
      "metadata": {
        "id": "zzf2X8hptu02",
        "outputId": "20cadacd-2b58-41ac-a2fd-c68a13039ba2",
        "colab": {
          "base_uri": "https://localhost:8080/"
        }
      },
      "execution_count": 41,
      "outputs": [
        {
          "output_type": "stream",
          "name": "stdout",
          "text": [
            "     sepal_length  sepal_width  petal_length  petal_width    species\n",
            "0             5.1          3.5           1.4          0.2     setosa\n",
            "1             4.9          3.0           1.4          0.2     setosa\n",
            "2             4.7          3.2           1.3          0.2     setosa\n",
            "3             4.6          3.1           1.5          0.2     setosa\n",
            "4             5.0          3.6           1.4          0.2     setosa\n",
            "..            ...          ...           ...          ...        ...\n",
            "145           6.7          3.0           5.2          2.3  virginica\n",
            "146           6.3          2.5           5.0          1.9  virginica\n",
            "147           6.5          3.0           5.2          2.0  virginica\n",
            "148           6.2          3.4           5.4          2.3  virginica\n",
            "149           5.9          3.0           5.1          1.8  virginica\n",
            "\n",
            "[150 rows x 5 columns]\n"
          ]
        }
      ]
    },
    {
      "cell_type": "markdown",
      "source": [
        "11.  What is the correlation between the variables `sepal_length` and `sepal_width` for all the irises?"
      ],
      "metadata": {
        "id": "AKz6-jVWtvSB"
      }
    },
    {
      "cell_type": "code",
      "source": [
        "correlation = iris_df['sepal_length'].corr(iris_df['sepal_width'])\n",
        "print(f\"The correlation between sepal_length and sepal_width is {correlation:.3f}\")"
      ],
      "metadata": {
        "id": "hee42cCiuUaQ",
        "outputId": "ba6c547e-11c8-48db-e675-a0fb36f307ce",
        "colab": {
          "base_uri": "https://localhost:8080/"
        }
      },
      "execution_count": 42,
      "outputs": [
        {
          "output_type": "stream",
          "name": "stdout",
          "text": [
            "The correlation between sepal_length and sepal_width is -0.118\n"
          ]
        }
      ]
    },
    {
      "cell_type": "markdown",
      "source": [
        "12.  Which of the three species has the highest correlation between `sepal_length` and `sepal_width`?  Show any calculations you use to support your answer."
      ],
      "metadata": {
        "id": "0FftiYs-uU0S"
      }
    },
    {
      "cell_type": "code",
      "source": [
        "grouped_df = iris_df.groupby('species')\n",
        "correlations = {}\n",
        "for species, group in grouped_df:\n",
        "    correlation = group['sepal_length'].corr(group['sepal_width'])\n",
        "    correlations[species] = correlation\n",
        "highest_correlation = 0\n",
        "highest_species = None\n",
        "for species, correlation in correlations.items():\n",
        "    if correlation > highest_correlation:\n",
        "        highest_correlation = correlation\n",
        "        highest_species = species\n",
        "print(f\"The species with the highest correlation between sepal_length and sepal_width is {highest_species} with a correlation of {highest_correlation:.3f}\")"
      ],
      "metadata": {
        "id": "TFGICsBQulQ-",
        "outputId": "e25c0a6b-1672-41d8-c162-a991c44f3ece",
        "colab": {
          "base_uri": "https://localhost:8080/"
        }
      },
      "execution_count": 43,
      "outputs": [
        {
          "output_type": "stream",
          "name": "stdout",
          "text": [
            "The species with the highest correlation between sepal_length and sepal_width is setosa with a correlation of 0.743\n"
          ]
        }
      ]
    },
    {
      "cell_type": "markdown",
      "source": [
        "13.  Among the four variables, the two that are most negatively correlated (overall) are `sepal_width` and `petal_length`.  (How do we know this?)  Determine the same thing but for each species separately:  for each species, which two variables have the most negative (or the least positive) correlation?  Again, include calculations to support your answer."
      ],
      "metadata": {
        "id": "ZEwy0920u1NY"
      }
    },
    {
      "cell_type": "code",
      "source": [
        "for species, group in grouped_df:\n",
        "    correlations[species] = group.corr()\n",
        "most_negative_correlations = {}\n",
        "for species, correlation_matrix in correlations.items():\n",
        "    # Find the pair of variables with the lowest correlation coefficient\n",
        "    most_negative_correlation = None\n",
        "    most_negative_pair = None\n",
        "    for column1 in correlation_matrix.columns:\n",
        "        for column2 in correlation_matrix.columns:\n",
        "            if column1 != column2:\n",
        "                correlation = correlation_matrix[column1][column2]\n",
        "                if most_negative_correlation is None or correlation < most_negative_correlation:\n",
        "                    most_negative_correlation = correlation\n",
        "                    most_negative_pair = (column1, column2)\n",
        "\n",
        "    most_negative_correlations[species] = most_negative_pair\n",
        "for species, pair in most_negative_correlations.items():\n",
        "    print(f\"For species {species}, the two variables with the most negative correlation are {pair[0]} and {pair[1]}\")"
      ],
      "metadata": {
        "id": "bcqtPTtHvjLI",
        "outputId": "3ec6ab93-3427-4c36-f336-491507c2d692",
        "colab": {
          "base_uri": "https://localhost:8080/"
        }
      },
      "execution_count": 44,
      "outputs": [
        {
          "output_type": "stream",
          "name": "stdout",
          "text": [
            "For species setosa, the two variables with the most negative correlation are sepal_width and petal_length\n",
            "For species versicolor, the two variables with the most negative correlation are sepal_length and sepal_width\n",
            "For species virginica, the two variables with the most negative correlation are sepal_length and petal_width\n"
          ]
        },
        {
          "output_type": "stream",
          "name": "stderr",
          "text": [
            "<ipython-input-44-a2e983f90db3>:2: FutureWarning: The default value of numeric_only in DataFrame.corr is deprecated. In a future version, it will default to False. Select only valid columns or specify the value of numeric_only to silence this warning.\n",
            "  correlations[species] = group.corr()\n"
          ]
        }
      ]
    },
    {
      "cell_type": "markdown",
      "source": [
        "14.  Once again, the variables `sepal_width` and `petal_length` are negatively correlated.  But for each individual species, these two variables are positively correlated.  How is this possible?  Explain this phenomenon.  Use a data visualization if it helps.\n"
      ],
      "metadata": {
        "id": "cK_OhSaRvxhE"
      }
    },
    {
      "cell_type": "markdown",
      "source": [
        "They are positvely correlated because they are within the same species. There is a negative correlation because they are outisde of the same species so they take on different code/attributes for the formation of their own species"
      ],
      "metadata": {
        "id": "KC2ea9XEa1su"
      }
    }
  ],
  "metadata": {
    "kernelspec": {
      "display_name": "Python 3.8.9 64-bit",
      "language": "python",
      "name": "python3"
    },
    "language_info": {
      "codemirror_mode": {
        "name": "ipython",
        "version": 3
      },
      "file_extension": ".py",
      "mimetype": "text/x-python",
      "name": "python",
      "nbconvert_exporter": "python",
      "pygments_lexer": "ipython3",
      "version": "3.8.9"
    },
    "orig_nbformat": 4,
    "vscode": {
      "interpreter": {
        "hash": "31f2aee4e71d21fbe5cf8b01ff0e069b9275f58929596ceb00d14d90e3e16cd6"
      }
    },
    "colab": {
      "provenance": [],
      "include_colab_link": true
    }
  },
  "nbformat": 4,
  "nbformat_minor": 0
}