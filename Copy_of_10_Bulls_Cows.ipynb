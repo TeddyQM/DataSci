{
  "cells": [
    {
      "cell_type": "markdown",
      "metadata": {
        "id": "view-in-github",
        "colab_type": "text"
      },
      "source": [
        "<a href=\"https://colab.research.google.com/github/TeddyQM/DataSci/blob/main/Copy_of_10_Bulls_Cows.ipynb\" target=\"_parent\"><img src=\"https://colab.research.google.com/assets/colab-badge.svg\" alt=\"Open In Colab\"/></a>"
      ]
    },
    {
      "cell_type": "markdown",
      "metadata": {
        "id": "lSwr8T3SNrkj"
      },
      "source": [
        "## Bulls and Cows:\n",
        "### Another guessing game.\n",
        "### Assignment due Wednesday 10 April at 10 am\n",
        "\n",
        "General instructions:\n",
        "\n",
        "1. You may work in teams of up to three people.  As usual, if you do this, make sure all names are clearly displayed at the top of your submission, and all team members should submit the same GitHub URL.\n",
        "\n",
        "1. Use only basic Python code.  Do not use `numpy` arrays or functions.\n",
        "\n",
        "2. Practice utilizing the coding concepts we have studied.  \n",
        "\n",
        "3. Write docstrings for all your functions.\n",
        "\n"
      ]
    },
    {
      "cell_type": "markdown",
      "metadata": {
        "id": "qrWRyeI2NwHA"
      },
      "source": [
        "### Goal:  program this game\n",
        "In this assignment you will program a version of an old game called Bulls and Cows.  It is somewhat similar to Wordle, but with numbers instead of words (and various other differences . . . read carefully!).\n",
        "\n",
        "The game is played like this:  \n",
        "1. The computer will choose a secret code that the player is trying to guess.\n",
        "2. The secret code will be 4 digits long.  It will use only the digits 1-6, and it will have no repeated digits.  For example the secret code might be 1326 or 6241 but it cannot be 2652 or 4913 or 2601.\n",
        "3. The computer will prompt the user for a guess, and the user will guess.  The guess must follow the same rules (4 digits long, only use digits 1-6, no repeats).  The program should not allow an invalid guess.\n",
        "4. After each guess, the computer will give feedback to the user as follows:  \n",
        "(i) Each digit of the guess that is in the secret code and in the correct position is called a Bull (B).  \n",
        "(ii) Each digit of the guess that exists somewhere in the secret code, but *not* in the same position as in the guess, is called a Cow (C).  \n",
        "(iii) A digit of the guess that doesn't occur anywhere in the secret code is called a miss (X).  \n",
        "The computer will inform the user how many Bulls, how many Cows, and how many misses the user's guess had.  \n",
        "The feedback will always start with B's, then list C's, then list X's.  \n",
        "For example if the secret code is 1326  \n",
        "and the guess is 4316  \n",
        "then the computer should respond with \"BBCX\"  \n",
        "because there are two Bulls (the 3 and the 6 are Bulls, because they occur in the same position in the guess as in the secret code),  \n",
        "one Cow (the 1, which is a correct digit but in the wrong position),  \n",
        "and one Miss (the 4, which does not occur anywhere in the secret code).  \n",
        "> **Important:** the feedback string should always list the Bulls first, then the Cows, then the Misses.  It should **not** tell the user which digits are which!  The only information in the feedback string is how many of each there are.  In the example above, for instance, the feedback is **not** \"XBCB\" but rather \"BBCX\".  This is different from Wordle, if you are familiar with that game.\n",
        "5. The user should then be prompted for another guess.  This guess-with-feedback process should be repeated until the user gets the correct code, at which point the computer should indicate that they have won the game.  However, the user should only be allowed 6 guesses; if they don't guess correctly in 6 attempts, then following the feedback from their final guess they should get a message that they have lost the game, and the secret code should be revealed.\n",
        "\n",
        "\n",
        "\n",
        "\n",
        "\n",
        "\n",
        "\n"
      ]
    },
    {
      "cell_type": "markdown",
      "source": [
        "### Steps\n",
        "We will build this game using several functions.  \n",
        "\n",
        "1. **Count the Bulls:**  \n",
        "Write a function that takes two lists of the same length, and returns the number of Bulls.  That is, it should return the number of indices where the lists contain the same element.  *(Note:  you don't have to check that the entries are between 1 and 6, or that there are no repeats, etc.  A different function will do that.)*\n",
        "\n",
        "> A sample run might look like\n",
        "```\n",
        "first = [11, 3, 17, 5, 1]\n",
        "second = [20, 2, 17, 3, 1]\n",
        "count_bulls(first,second)\n",
        "```\n",
        "```\n",
        " 2\n",
        "```\n"
      ],
      "metadata": {
        "id": "XSH1JULaurD1"
      }
    },
    {
      "cell_type": "code",
      "source": [
        "primary = [99, 4, 12, 81, 16]\n",
        "secondary = [32, 9, 12, 7, 16]\n",
        "count_bulls(primary,secondary)"
      ],
      "metadata": {
        "id": "KjBXRTF6Db9_",
        "outputId": "158d3a3b-d3b8-4ca0-850a-ebfe32e9e93c",
        "colab": {
          "base_uri": "https://localhost:8080/"
        }
      },
      "execution_count": null,
      "outputs": [
        {
          "output_type": "execute_result",
          "data": {
            "text/plain": [
              "2"
            ]
          },
          "metadata": {},
          "execution_count": 11
        }
      ]
    },
    {
      "cell_type": "markdown",
      "source": [
        "Define your function in the code chunk below.  The function definition command and the return command are pre-populated for you.  You just have to fill in the part which does the actual counting.  I recommend using a list comprehension to do this.\n"
      ],
      "metadata": {
        "id": "pXoOyBk7xmPa"
      }
    },
    {
      "cell_type": "code",
      "source": [
        "def count_bulls(primary, secondary):\n",
        "  '''\n",
        "  Takes two lists of the same length and computes the number of positions where the list entries agree.\n",
        "  Inputs:\n",
        "    primary (list): The first list.\n",
        "    secondary (list): The second list.\n",
        "  Outputs:\n",
        "     int: The number of positions where the list entries agree.\n",
        "  '''\n",
        "  num_bulls = sum(1 for p, s in zip(primary, secondary) if p == s)\n",
        "  return num_bulls"
      ],
      "metadata": {
        "id": "vEsRSe8KxlcF"
      },
      "execution_count": null,
      "outputs": []
    },
    {
      "cell_type": "markdown",
      "source": [
        "Add code and/or text chunks below to demonstrate that you have tested your code and that it works correctly."
      ],
      "metadata": {
        "id": "yACJyJtOzE2U"
      }
    },
    {
      "cell_type": "code",
      "source": [
        "primary = [99, 4, 12, 81, 16]\n",
        "secondary = [32, 9, 12, 7, 16]\n",
        "print(count_bulls(primary, secondary))"
      ],
      "metadata": {
        "id": "5syqo1JnHFZ6",
        "outputId": "693822c1-a09b-4887-885e-6ffcb0647890",
        "colab": {
          "base_uri": "https://localhost:8080/"
        }
      },
      "execution_count": null,
      "outputs": [
        {
          "output_type": "stream",
          "name": "stdout",
          "text": [
            "2\n"
          ]
        }
      ]
    },
    {
      "cell_type": "code",
      "source": [
        "primary = [44, 4, 12, 81, 16]\n",
        "secondary = [44, 9, 12, 7, 16]\n",
        "print(count_bulls(primary, secondary))"
      ],
      "metadata": {
        "id": "r2kG5j6FJu3K",
        "outputId": "22ee65c6-29e8-4c6b-f4e8-385babeb501f",
        "colab": {
          "base_uri": "https://localhost:8080/"
        }
      },
      "execution_count": null,
      "outputs": [
        {
          "output_type": "stream",
          "name": "stdout",
          "text": [
            "3\n"
          ]
        }
      ]
    },
    {
      "cell_type": "markdown",
      "source": [
        "Changed it so there is another posititon in the lists that have the same numbers, making it print another number due to the changes."
      ],
      "metadata": {
        "id": "sZ3eGImWKnxW"
      }
    },
    {
      "cell_type": "markdown",
      "source": [
        "2. **Count something else:**  \n",
        "To count the cows it will be helpful first to count how many of the elements occur in both strings, without paying attention their positions.\n",
        "Write a function called `count_animals` that takes two lists of the same length, and returns the number of elements of the second list that are also in the first list.  (In the game setting, each such element is either a Bull or a Cow, but don't worry about which is which for this problem.)\n",
        "You may assume the lists do not contain repeated elements, since this will be the case when the function is called in the game.\n",
        "\n",
        "\n",
        "This one isn't started for you.  Remember to include a docstring.  This can also be done using a list comprehension, similar to the previous function.\n",
        "\n"
      ],
      "metadata": {
        "id": "aMsOmejkzNVN"
      }
    },
    {
      "cell_type": "code",
      "source": [
        "def count_animals(primary, secondary):\n",
        "    '''\n",
        "    Takes two lists of the same length and counts the number of elements in the second list that are also in the first list.\n",
        "    Inputs:\n",
        "     primary (list): The first list.\n",
        "     secondary (list): The second list.\n",
        "\n",
        "    Outputs:\n",
        "      int: The number of elements in the second list that are also in the first list.\n",
        "    '''\n",
        "    return sum(1 for elem in secondary if elem in primary)"
      ],
      "metadata": {
        "id": "yRX219q02e6i"
      },
      "execution_count": null,
      "outputs": []
    },
    {
      "cell_type": "markdown",
      "source": [
        "Again, demonstrate below that you have tested your code and that it works."
      ],
      "metadata": {
        "id": "HXRNwANS2f-4"
      }
    },
    {
      "cell_type": "code",
      "source": [
        "primary = [7, 4, 12, 81, 16]\n",
        "secondary = [32, 9, 12, 7, 16]\n",
        "print(count_animals(primary, secondary))"
      ],
      "metadata": {
        "id": "VQ1rb9tMKFAF",
        "outputId": "618da163-1421-4445-d9eb-a9bf9cae4ebd",
        "colab": {
          "base_uri": "https://localhost:8080/"
        }
      },
      "execution_count": null,
      "outputs": [
        {
          "output_type": "stream",
          "name": "stdout",
          "text": [
            "3\n"
          ]
        }
      ]
    },
    {
      "cell_type": "code",
      "source": [
        "primary = [7, 4, 12, 9, 16]\n",
        "secondary = [32, 9, 12, 7, 16]\n",
        "print(count_animals(primary, secondary))"
      ],
      "metadata": {
        "id": "j5kfxNCKKEvh",
        "outputId": "8a73051b-8540-4fc8-d914-a35a59ca7de0",
        "colab": {
          "base_uri": "https://localhost:8080/"
        }
      },
      "execution_count": null,
      "outputs": [
        {
          "output_type": "stream",
          "name": "stdout",
          "text": [
            "4\n"
          ]
        }
      ]
    },
    {
      "cell_type": "markdown",
      "source": [
        "Inlcuded another element in primary list that is also in secondary list."
      ],
      "metadata": {
        "id": "01gJzD7yKeT8"
      }
    },
    {
      "cell_type": "markdown",
      "source": [
        "3. **Count the cows:**  \n",
        "Write a function called `count_cows` that counts the cows.  \n",
        "> This time a sample run might look like\n",
        "```\n",
        "first = [11, 3, 17, 5, 1]\n",
        "second = [20, 2, 17, 3, 1]\n",
        "count_cows(first,second)\n",
        "```\n",
        "```\n",
        " 1\n",
        "```\n",
        "*Use the two previously defined functions to help you!  \n",
        "In fact, remember that the only reason we wrote the `count_animals` function was to help count the cows.*\n",
        "\n",
        "You can do this with only two lines of code, not counting documentation!"
      ],
      "metadata": {
        "id": "x2DAPkxj2GMo"
      }
    },
    {
      "cell_type": "code",
      "source": [
        "def count_cows(primary, secondary):\n",
        "    '''\n",
        "    Counts the cows by using the count_animals function.\n",
        "\n",
        "    Inputs:\n",
        "    primary (list): The first list.\n",
        "    secondary (list): The second list.\n",
        "\n",
        "    Outputs:\n",
        "    int: The number of cows.\n",
        "    '''\n",
        "    return count_animals(primary, secondary) - count_bulls(primary, secondary)\n",
        "\n",
        "\n"
      ],
      "metadata": {
        "id": "QnxnaOPI3YZO"
      },
      "execution_count": null,
      "outputs": []
    },
    {
      "cell_type": "code",
      "source": [
        "primary = [99, 4, 12, 81, 16]\n",
        "secondary = [32, 9, 12, 7, 16]\n",
        "print(count_bulls(primary, secondary))\n",
        "\n",
        "primary = [7, 4, 12, 81, 16]\n",
        "secondary = [32, 9, 12, 7, 16]\n",
        "print(count_animals(primary, secondary))\n",
        "\n",
        "first = [11, 3, 17, 5, 1]\n",
        "second = [20, 2, 17, 3, 1]\n",
        "print(count_cows(primary, secondary))\n",
        "\n",
        "# Animals - Bulls = Cows (1)"
      ],
      "metadata": {
        "id": "gPNUBQC2MMN8",
        "outputId": "9755e0d7-640f-4691-fe29-6aa1ea71b483",
        "colab": {
          "base_uri": "https://localhost:8080/"
        }
      },
      "execution_count": null,
      "outputs": [
        {
          "output_type": "stream",
          "name": "stdout",
          "text": [
            "2\n",
            "3\n",
            "1\n"
          ]
        }
      ]
    },
    {
      "cell_type": "markdown",
      "metadata": {
        "id": "hWQhYDIVYjXr"
      },
      "source": [
        "4. **Create feedback string**  \n",
        "Write a `build_response_str` function that takes three numbers, say `b,c,l`, and outputs a string of total length `l` that consists of `b` B's, followed by `c` C's, and the rest X's (until the total length is `l`).\n",
        "\n",
        "> Sample run:\n",
        "```\n",
        "build_response_str(4,3,9)\n",
        "```\n",
        "```\n",
        "BBBBCCCXX\n",
        "```"
      ]
    },
    {
      "cell_type": "code",
      "source": [
        "def build_response_str(b, c, l):\n",
        "    '''\n",
        "    Builds a response string of length m consisting of b B's, followed by c C's, and the rest X's (until the total length is m).\n",
        "\n",
        "    Inputs:\n",
        "    b (int): The number of B's.\n",
        "    c (int): The number of C's.\n",
        "    l (int): The total length of the response string.\n",
        "\n",
        "    Outputs:\n",
        "    str: The response string.\n",
        "    '''\n",
        "    response = 'B' * b + 'C' * c + 'X' * (l - b - c)\n",
        "    return response\n",
        "\n"
      ],
      "metadata": {
        "id": "GSimWqUsMaPE"
      },
      "execution_count": null,
      "outputs": []
    },
    {
      "cell_type": "markdown",
      "source": [
        "Test your code here."
      ],
      "metadata": {
        "id": "2D14kxTU7ApH"
      }
    },
    {
      "cell_type": "code",
      "source": [
        "b = 2\n",
        "c = 6\n",
        "l = 9\n",
        "print(build_response_str(b, c, l))\n"
      ],
      "metadata": {
        "id": "7n-KHM0XOdtt",
        "outputId": "0f50570c-e6ac-405c-90bc-878d71370bce",
        "colab": {
          "base_uri": "https://localhost:8080/"
        }
      },
      "execution_count": null,
      "outputs": [
        {
          "output_type": "stream",
          "name": "stdout",
          "text": [
            "BBCCCCCCX\n"
          ]
        }
      ]
    },
    {
      "cell_type": "markdown",
      "metadata": {
        "id": "omzE6sLKwsMC"
      },
      "source": [
        "5.  **Generate feedback for guesses**  \n",
        "Write a function `response(first,second)` that takes two lists of the same length, and outputs a string consisting of some number of B's followed by some number of C's followed by some number of X's, where the numbers correspond to the things we counted above.  That is, if `first` were the secret code in the game and `second` were the user's guess, then we would print one B for each Bull, one C for each Cow, and one X for each Miss. The total output string should have the same length as the input strings.\n",
        "\n",
        "> Sample run:\n",
        "```\n",
        "first = [11, 3, 17, 5, 1]\n",
        "second = [20, 2, 17, 3, 1]\n",
        "response(first,second)\n",
        "```\n",
        "```\n",
        " BBCXX\n",
        "```\n",
        "\n",
        "With all the functions you've already put in place, this should be simple.  Test your code once it's written.\n"
      ]
    },
    {
      "cell_type": "code",
      "source": [
        "def response(first, second):\n",
        "    '''\n",
        "    Generates a response string based on the numbers of bulls, cows, and misses that correspond to the things we counted in previous code.\n",
        "\n",
        "    Inputs:\n",
        "    first (list): The first list (secret code in the game).\n",
        "    second (list): The second list (user's guess).\n",
        "\n",
        "    Outputs:\n",
        "    str: The response string consisting of B's for bulls, C's for cows, and X's for misses.\n",
        "    '''\n",
        "    num_bulls = count_bulls(first, second)\n",
        "    num_cows = count_cows(first, second)\n",
        "    length = len(first)\n",
        "    return build_response_str(num_bulls, num_cows, length)\n"
      ],
      "metadata": {
        "id": "RD1qq7l783y5"
      },
      "execution_count": null,
      "outputs": []
    },
    {
      "cell_type": "code",
      "source": [
        "first = [11, 3, 17, 5, 1]\n",
        "second = [20, 2, 17, 3, 1]\n",
        "print(response(first, second))"
      ],
      "metadata": {
        "id": "CCY63r3yQDTp",
        "outputId": "be20dbfb-180a-42a2-8813-b993fb60192f",
        "colab": {
          "base_uri": "https://localhost:8080/"
        }
      },
      "execution_count": null,
      "outputs": [
        {
          "output_type": "stream",
          "name": "stdout",
          "text": [
            "BBCXX\n"
          ]
        }
      ]
    },
    {
      "cell_type": "markdown",
      "metadata": {
        "id": "LWshNPjPZJdQ"
      },
      "source": [
        "6.  **Choose the secret code**  \n",
        "The `random` package, and specifically the `sample` sub-package, is useful for generating random samples.  Try running the following lines of code several times.\n",
        "\n"
      ]
    },
    {
      "cell_type": "code",
      "source": [
        "from random import sample\n",
        "\n",
        "sample(range(1,7),4)  # the first argument is the population to be sampled, and the second is the number of samples\n",
        "                      # recall that `range(a,b)` includes `a` but stops at `b-1`"
      ],
      "metadata": {
        "id": "OzEZ5BQZ85jV",
        "outputId": "b41dc3a3-e301-4baf-e1e2-ea0b91f40c01",
        "colab": {
          "base_uri": "https://localhost:8080/"
        }
      },
      "execution_count": null,
      "outputs": [
        {
          "output_type": "execute_result",
          "data": {
            "text/plain": [
              "[5, 6, 2, 4]"
            ]
          },
          "metadata": {},
          "execution_count": 71
        }
      ]
    },
    {
      "cell_type": "markdown",
      "source": [
        "What type of object is returned by the `sample` function?\n"
      ],
      "metadata": {
        "id": "N1BOe2Xd-kr4"
      }
    },
    {
      "cell_type": "markdown",
      "source": [
        "A 'list' is returned by the sample function. This 'list' has 4 different elements comprised of numbers from 1-6 with no number repeated in the same list."
      ],
      "metadata": {
        "id": "yGZw8xFZ-uN4"
      }
    },
    {
      "cell_type": "markdown",
      "source": [
        "7. **Verify the guess**  \n",
        "Finish writing a function called `get_guess` (started below) to prompt the user for a guess and then make sure the input is valid according to the rules of the game.\n",
        "The prompt is already given.  Note that the `list` command converts the input into a list of characters so that it can be passed to the other functions (which are expecting lists).   \n",
        ">**Alert:  you will likely have to think more about data types before this is all over.**"
      ],
      "metadata": {
        "id": "mbK84TdIAVsO"
      }
    },
    {
      "cell_type": "code",
      "source": [
        "def get_guess():\n",
        "# Add code as needed to verify that the guess is legitimate.\n",
        "# Respond to an illegitimate guess with a message telling the user what the rules are\n",
        "# and asking to try again.\n",
        "\n",
        "  guess = list(input(\"Enter your guess:\"))\n",
        "\n",
        "  return guess"
      ],
      "metadata": {
        "id": "13HGg6VvBXSH"
      },
      "execution_count": null,
      "outputs": []
    },
    {
      "cell_type": "code",
      "source": [
        "def get_guess():\n",
        "    '''\n",
        "    Prompts the user for a guess and makes sure that the guess is legitimate according to the rules of the game.\n",
        "    Responds to an illegitimate guess with a message telling the user what the rules are and asking to try again.\n",
        "\n",
        "    Output:\n",
        "    list: The legitimate guess as a list of characters.\n",
        "    '''\n",
        "    while True:\n",
        "        guess = list(input(\"Enter your guess: \"))\n",
        "        if len(guess) != 4:\n",
        "            print(\"Your guess must contain exactly 4 characters.Try again.\")\n",
        "            continue\n",
        "        if not all(char.isdigit() for char in guess):\n",
        "            print(\"Your guess must contain only digits.Try again.\")\n",
        "            continue\n",
        "        guess = [int(char) for char in guess]\n",
        "        if len(set(guess)) != 4:\n",
        "            print(\"Your guess must contain unique digits.Try again.\")\n",
        "            continue\n",
        "        break\n",
        "    return guess\n",
        "\n"
      ],
      "metadata": {
        "id": "eFghbCy6TgBY"
      },
      "execution_count": null,
      "outputs": []
    },
    {
      "cell_type": "markdown",
      "source": [
        "As usual, test your code.  What type of objects are we dealing with here?"
      ],
      "metadata": {
        "id": "PSPYpeZYONf0"
      }
    },
    {
      "cell_type": "code",
      "source": [
        "# code test\n",
        "print(get_guess())"
      ],
      "metadata": {
        "id": "ytgf6BfiOPNh",
        "outputId": "ea2e9b2c-735b-423e-9ec3-120dd651e9aa",
        "colab": {
          "base_uri": "https://localhost:8080/"
        }
      },
      "execution_count": null,
      "outputs": [
        {
          "output_type": "stream",
          "name": "stdout",
          "text": [
            "Enter your guess: 9\n",
            "Your guess must contain exactly 4 characters.Try again.\n",
            "Enter your guess: lamp\n",
            "Your guess must contain only digits.Try again.\n",
            "Enter your guess: 98?0\n",
            "Your guess must contain only digits.Try again.\n",
            "Enter your guess: 9834\n",
            "[9, 8, 3, 4]\n"
          ]
        }
      ]
    },
    {
      "cell_type": "markdown",
      "source": [
        "Strings, Lists, Loops, Integers"
      ],
      "metadata": {
        "id": "Bv5KuugYVH0C"
      }
    },
    {
      "cell_type": "markdown",
      "source": [
        "8. **Put it all together**  \n",
        "Finally, fill in the details of the function `bulls_cows` below so that it will play the game of Bulls and Cows when called.  Note that the function takes no arguments and returns nothing.\n"
      ],
      "metadata": {
        "id": "WdtvUrA4-uzn"
      }
    },
    {
      "cell_type": "code",
      "execution_count": null,
      "metadata": {
        "id": "_u48oidGzRKX",
        "outputId": "4a2b29a3-6b3e-4b3d-bcb4-3f4f92be266e",
        "colab": {
          "base_uri": "https://localhost:8080/"
        }
      },
      "outputs": [
        {
          "name": "stdout",
          "output_type": "stream",
          "text": [
            "Welcome to Bulls and Cows!\n",
            "Guess the secret code of 4 unique digits from 1 to 6.\n",
            "For each correct digit in the correct position, you get a 'B'.\n",
            "For each correct digit in the wrong position, you get a 'C'.\n",
            "For each incorrect digit, you get an 'X'.\n",
            "Let's start!\n",
            "Enter your guess (4 unique digits from 1 to 6): 6734\n"
          ]
        }
      ],
      "source": [
        "def bulls_cows():\n",
        "    '''\n",
        "    Plays the game of Bulls and Cows.\n",
        "    '''\n",
        "    from random import sample\n",
        "\n",
        "    def count_bulls(primary, secondary):\n",
        "        return sum(1 for p, s in zip(primary, secondary) if p == s)\n",
        "\n",
        "    def count_cows(primary, secondary):\n",
        "        return count_animals(primary, secondary) - count_bulls(primary, secondary)\n",
        "\n",
        "    def count_animals(primary, secondary):\n",
        "        return sum(1 for elem in secondary if elem in primary)\n",
        "\n",
        "    def build_response_str(b, c, l):\n",
        "        return 'B' * b + 'C' * c + 'X' * (l - b - c)\n",
        "\n",
        "    def response(first, second):\n",
        "        num_bulls = count_bulls(first, second)\n",
        "        num_cows = count_cows(first, second)\n",
        "        length = len(first)\n",
        "        return build_response_str(num_bulls, num_cows, length)\n",
        "\n",
        "    def get_guess():\n",
        "        while True:\n",
        "            guess = input(\"Enter your guess (4 unique digits from 1 to 6): \")\n",
        "            if len(guess) != 4:\n",
        "                print(\"Your guess must contain exactly 4 characters.\")\n",
        "                continue\n",
        "            if not all(char.isdigit() and '1' <= char <= '6' for char in guess):\n",
        "                print(\"Your guess must contain only digits from 1 to 6.\")\n",
        "                continue\n",
        "            if len(set(guess)) != 4:\n",
        "                print(\"Your guess must contain unique digits.\")\n",
        "                continue\n",
        "            break\n",
        "        return list(map(int, guess))\n",
        "\n",
        "    secret_code = sample(range(1, 7), 4)\n",
        "    print(\"Welcome to Bulls and Cows!\")\n",
        "    print(\"Guess the secret code of 4 unique digits from 1 to 6.\")\n",
        "    print(\"For each correct digit in the correct position, you get a 'B'.\")\n",
        "    print(\"For each correct digit in the wrong position, you get a 'C'.\")\n",
        "    print(\"For each incorrect digit, you get an 'X'.\")\n",
        "    print(\"Let's start!\")\n",
        "\n",
        "    attempts = 0\n",
        "    while attempts < 6:\n",
        "        attempts += 1\n",
        "        guess = get_guess()\n",
        "        result = response(secret_code, guess)\n",
        "        print(\"Attempt {}: Your guess: {} Result: {}\".format(attempts, guess, result))\n",
        "        if result == 'BBBB':\n",
        "            print(\"Congratulations! You guessed the secret code in {} attempts!\".format(attempts))\n",
        "            return\n",
        "    print(\"Sorry, you didn't guess the secret code in 6 attempts.\")\n",
        "    print(\"The secret code was:\", secret_code)\n",
        "\n",
        "# Play the game\n",
        "bulls_cows()\n"
      ]
    },
    {
      "cell_type": "markdown",
      "metadata": {
        "id": "NzjqX_9K3OuV"
      },
      "source": [
        "Play the game a few times below.  Make sure it behaves as you think it should!"
      ]
    },
    {
      "cell_type": "markdown",
      "source": [
        "9. **Reflect**  \n",
        "Think of at least three ways you could change the rules or setup of the game, and in each case describe (in one sentence, you don't need to write code) what you would have to do to modify your code to play the new version of the game.  Use a text box below for each of your ideas."
      ],
      "metadata": {
        "id": "a58-KCX4ELRO"
      }
    },
    {
      "cell_type": "markdown",
      "source": [
        "(1) Change the length of the code. You would need to adjust the input validation in the get_guess function"
      ],
      "metadata": {
        "id": "Jof2vIZSEfwo"
      }
    },
    {
      "cell_type": "markdown",
      "source": [
        "(2) Expanding the digits within the range. Again adjust the input validation for get_guess to accept the new range."
      ],
      "metadata": {
        "id": "f2_QlBavEiqW"
      }
    },
    {
      "cell_type": "markdown",
      "source": [
        "(3) Limited number of hints. It would be cool if it was up to the player to request hints, and you would do this by adjusting the code to ask the player."
      ],
      "metadata": {
        "id": "sqfq2EFpEjZt"
      }
    }
  ],
  "metadata": {
    "colab": {
      "provenance": [],
      "include_colab_link": true
    },
    "kernelspec": {
      "display_name": "Python 3",
      "name": "python3"
    },
    "language_info": {
      "name": "python"
    }
  },
  "nbformat": 4,
  "nbformat_minor": 0
}