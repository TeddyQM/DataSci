{
  "nbformat": 4,
  "nbformat_minor": 0,
  "metadata": {
    "colab": {
      "provenance": [],
      "include_colab_link": true
    },
    "kernelspec": {
      "name": "python3",
      "display_name": "Python 3"
    },
    "language_info": {
      "name": "python"
    }
  },
  "cells": [
    {
      "cell_type": "markdown",
      "metadata": {
        "id": "view-in-github",
        "colab_type": "text"
      },
      "source": [
        "<a href=\"https://colab.research.google.com/github/TeddyQM/DataSci/blob/main/Assignments/11_comprehension_and_recursion.ipynb\" target=\"_parent\"><img src=\"https://colab.research.google.com/assets/colab-badge.svg\" alt=\"Open In Colab\"/></a>"
      ]
    },
    {
      "cell_type": "markdown",
      "source": [
        "## Assignment 11\n",
        "Due Monday 15 April at noon"
      ],
      "metadata": {
        "id": "y6mGkyWrqph3"
      }
    },
    {
      "cell_type": "markdown",
      "source": [
        "### List comprehension\n",
        "\n",
        "Many of you resisted my recommendation to use list comprehensions in the previous assignment, and so my hand is forced.  You made me require it.\n",
        "\n",
        "\n",
        "Problem 1.  For each function you write below, you may assume the list being sent to the function will contain the appropriate data type.\n",
        "\n",
        "Use list comprehensions to create a function that will take a list `l` and return . . ."
      ],
      "metadata": {
        "id": "eBJulsWBngse"
      }
    },
    {
      "cell_type": "markdown",
      "source": [
        "(a) . . . a list containing the absolute value of each element of `l`"
      ],
      "metadata": {
        "id": "1h4hKDEqo5T_"
      }
    },
    {
      "cell_type": "code",
      "source": [
        "def absolute_values_of_list(l):\n",
        "    return [abs(x) for x in l]\n",
        "teddys_list = [-27, 9, 34, -81, -29, 33, 64, 51, -17, 12, 18]\n",
        "result = absolute_values_of_list(teddys_list)\n",
        "print(result)\n",
        "\n"
      ],
      "metadata": {
        "id": "LNltsHhtngLS",
        "outputId": "85e747cc-90b6-47a0-a254-582616bb87ab",
        "colab": {
          "base_uri": "https://localhost:8080/"
        }
      },
      "execution_count": 34,
      "outputs": [
        {
          "output_type": "stream",
          "name": "stdout",
          "text": [
            "[27, 9, 34, 81, 29, 33, 64, 51, 17, 12, 18]\n"
          ]
        }
      ]
    },
    {
      "cell_type": "markdown",
      "source": [
        "(b) . . . a list containing `True` for each even number in `l` and `False` for each odd number in `l`"
      ],
      "metadata": {
        "id": "mqIbzaTvpLCV"
      }
    },
    {
      "cell_type": "code",
      "source": [
        "def true_false_even_odd(l):\n",
        "    return [True if x % 2 == 0 else False for x in l]\n",
        "teddys_list = [-27, 9, 34, -81, -29, 33, 64, 51, -17, 12, 18]\n",
        "result = true_false_even_odd(teddys_list)\n",
        "print(result)\n"
      ],
      "metadata": {
        "id": "0OTpQFX9pK0t",
        "outputId": "0428c654-dff3-4fa1-a5e0-878b76188f8d",
        "colab": {
          "base_uri": "https://localhost:8080/"
        }
      },
      "execution_count": 37,
      "outputs": [
        {
          "output_type": "stream",
          "name": "stdout",
          "text": [
            "[False, False, True, False, False, False, True, False, False, True, True]\n"
          ]
        }
      ]
    },
    {
      "cell_type": "markdown",
      "source": [
        "(c) . . . a list containing only the numbers in `l` that are divisible by 3"
      ],
      "metadata": {
        "id": "9yqVg2hApUY9"
      }
    },
    {
      "cell_type": "code",
      "source": [
        "def list_divisible_by_three(l):\n",
        "    return [x for x in l if x % 3 == 0]\n",
        "teddys_list = [-27, 9, 34, -81, -29, 33, 64, 51, -17, 12, 18]\n",
        "result = list_divisible_by_three(teddys_list)\n",
        "print(result)\n"
      ],
      "metadata": {
        "id": "2mP_1aYZpUF4",
        "outputId": "358c53be-a276-4876-bebf-7830f5aac9a2",
        "colab": {
          "base_uri": "https://localhost:8080/"
        }
      },
      "execution_count": 38,
      "outputs": [
        {
          "output_type": "stream",
          "name": "stdout",
          "text": [
            "[-27, 9, -81, 33, 51, 12, 18]\n"
          ]
        }
      ]
    },
    {
      "cell_type": "markdown",
      "source": [
        "(d) . . . a list containing only the words in `l` whose first and last letters are the same"
      ],
      "metadata": {
        "id": "2yClgYZupef1"
      }
    },
    {
      "cell_type": "code",
      "source": [
        "def same_first_same_last_letter(l):\n",
        "    return [word for word in l if len(word) > 1 and word[0] == word[-1]]\n",
        "my_list = [\"scoop\", \"fog\", \"stairs\", \"defined\", \"hunch\", \"planet\", \"pasta\"]\n",
        "result = same_first_same_last_letter(my_list)\n",
        "print(result)\n"
      ],
      "metadata": {
        "id": "-l7XnemMpeCi",
        "outputId": "39b9b241-183a-4455-877c-fffc37cccbe5",
        "colab": {
          "base_uri": "https://localhost:8080/"
        }
      },
      "execution_count": 39,
      "outputs": [
        {
          "output_type": "stream",
          "name": "stdout",
          "text": [
            "['stairs', 'defined', 'hunch']\n"
          ]
        }
      ]
    },
    {
      "cell_type": "markdown",
      "source": [
        "(e) . . . a list containing the first letter of each word in `l` that ends with a vowel"
      ],
      "metadata": {
        "id": "1mqMysFKppZS"
      }
    },
    {
      "cell_type": "code",
      "source": [
        "def first_letter_ends_with_vowel(l):\n",
        "    vowels = \"aeiou\"\n",
        "    return [word[0] for word in l if len(word) > 0 and word[-1] in vowels]\n",
        "my_list = [\"fruit\", \"plaid\", \"score\", \"cologne\", \"grandma\", \"scowl\", \"adieu\"]\n",
        "result = first_letter_ends_with_vowel(my_list)\n",
        "print(result)\n"
      ],
      "metadata": {
        "id": "1Gi3andbppDc",
        "outputId": "c3e0c386-a2af-496f-f3ac-b3df681b2462",
        "colab": {
          "base_uri": "https://localhost:8080/"
        }
      },
      "execution_count": 40,
      "outputs": [
        {
          "output_type": "stream",
          "name": "stdout",
          "text": [
            "['s', 'c', 'g', 'a']\n"
          ]
        }
      ]
    },
    {
      "cell_type": "markdown",
      "source": [
        "### Multiplication as a recursive process\n",
        "Problem 2.  Write a recursive function that computes the product of two positive integers `a` and `b` by adding `a` to itself `b` times.\n",
        "\n",
        "Hints:  \n",
        "1. if `b=1` then the product is `a`.\n",
        "2. if `b>1` then the product is what you get by adding `a` to `a * (b-1)`.\n",
        "\n",
        "Note:  the purpose of this exercise is to practice writing recursive functions.  Of course you can trivially ask for `a*b` and get the correct answer but that is worth no points.  Your function should not use any multiplications.\n"
      ],
      "metadata": {
        "id": "iV4ysawxjsiE"
      }
    },
    {
      "cell_type": "code",
      "execution_count": 42,
      "metadata": {
        "id": "wc9Y1d7ejrvH",
        "outputId": "84a9b240-43ea-43bc-f169-45beaa8bc0cb",
        "colab": {
          "base_uri": "https://localhost:8080/"
        }
      },
      "outputs": [
        {
          "output_type": "stream",
          "name": "stdout",
          "text": [
            "20\n"
          ]
        }
      ],
      "source": [
        "def multiplication_recursive_process(a, b):\n",
        "    if b == 1:\n",
        "        return a\n",
        "    else:\n",
        "        return a + multiplication_recursive_process(a, b - 1)\n",
        "result = multiplication_recursive_process(4, 5)\n",
        "print(result)\n"
      ]
    },
    {
      "cell_type": "markdown",
      "source": [
        "### Division as a recursive process\n",
        "\n",
        "Problem 3:  Write a recursive function that takes two positive integers `a` and `b` and returns the quotient `q` and remainder `r` obtained when `a` is divided by `b`.\n",
        "\n",
        "Hints:  \n",
        "1. If `a<b` then what should `q` and `r` be?\n",
        "\n",
        "2. If `a>b` then think about how `q` and `r` are related to the values you would get from dividing `a-b` by `b`."
      ],
      "metadata": {
        "id": "A5xI1LxDkxn0"
      }
    },
    {
      "cell_type": "code",
      "source": [
        "def division_recursive_process(a, b):\n",
        "    if a < b:\n",
        "        return 0, a\n",
        "    else:\n",
        "        q, r = division_recursive_process(a - b, b)\n",
        "        return q + 1, r\n",
        "quotient, remainder = division_recursive_process(36, 7)\n",
        "print(\"quotient:\", quotient)\n",
        "print(\"remainder:\", remainder)\n"
      ],
      "metadata": {
        "id": "_3aRmkgJkxUW",
        "outputId": "8fe17e49-69c0-4de0-ae22-fb1ae0d19dba",
        "colab": {
          "base_uri": "https://localhost:8080/"
        }
      },
      "execution_count": 48,
      "outputs": [
        {
          "output_type": "stream",
          "name": "stdout",
          "text": [
            "quotient: 5\n",
            "remainder: 1\n"
          ]
        }
      ]
    },
    {
      "cell_type": "markdown",
      "source": [
        "### The dot product of two vectors\n",
        "\n",
        "Problem 4.  Write a recursive function `dot()` that takes two lists of numbers, of equal length, and returns the sum of the products of the elements of the same index from each list. For example, if `V=[1,2,3]` and `W=[4,5,6]` then the function should return the value $(1 \\cdot 4) + (2\\cdot 5) + (3\\cdot 6)$, which equals 32.  In physics and linear algebra, this is called the \"dot product\" of the vectors `V` and `W`.\n",
        "\n",
        "Other examples:\n",
        "```\n",
        "dot([3],[4])\n",
        "12\n",
        "\n",
        "dot([1,1,0],[2,7,17])\n",
        "9\n",
        "```\n",
        "Hints:\n",
        "1. How is `dot(V,W)` related to `dot(V[1:],W[1:])`?\n",
        "2. What should happen if the lists are empty?"
      ],
      "metadata": {
        "id": "OkBK7gvglJ3u"
      }
    },
    {
      "cell_type": "code",
      "source": [
        "def dot(V, W):\n",
        "    if len(V) == 0 or len(W) == 0:\n",
        "        return 0\n",
        "    else:\n",
        "        return V[0] * W[0] + dot(V[1:], W[1:])\n",
        "\n",
        "V = [2, 4, 6]\n",
        "W = [3, 6, 9]\n",
        "result = dot(V, W)\n",
        "print(\"dot product:\", result)\n"
      ],
      "metadata": {
        "id": "LZXs6lkslJqm",
        "outputId": "d7e66d4a-4d67-4049-990b-1cd44ad80b3f",
        "colab": {
          "base_uri": "https://localhost:8080/"
        }
      },
      "execution_count": 50,
      "outputs": [
        {
          "output_type": "stream",
          "name": "stdout",
          "text": [
            "dot product: 84\n"
          ]
        }
      ]
    }
  ]
}