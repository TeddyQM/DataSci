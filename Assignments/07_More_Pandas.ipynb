{
  "nbformat": 4,
  "nbformat_minor": 0,
  "metadata": {
    "colab": {
      "provenance": [],
      "include_colab_link": true
    },
    "kernelspec": {
      "name": "python3",
      "display_name": "Python 3"
    },
    "language_info": {
      "name": "python"
    }
  },
  "cells": [
    {
      "cell_type": "markdown",
      "metadata": {
        "id": "view-in-github",
        "colab_type": "text"
      },
      "source": [
        "<a href=\"https://colab.research.google.com/github/TeddyQM/DataSci/blob/main/Assignments/07_More_Pandas.ipynb\" target=\"_parent\"><img src=\"https://colab.research.google.com/assets/colab-badge.svg\" alt=\"Open In Colab\"/></a>"
      ]
    },
    {
      "cell_type": "markdown",
      "source": [
        "# More pandas exercises\n",
        "\n",
        "Create a Colab notebook. Complete the tasks as specified in the directions. Run each cell to return the desired output. Save your notebook back to your GitHub repository and submit the GitHub URL for your notebook for review."
      ],
      "metadata": {
        "id": "phbaQTT5gy8A"
      }
    },
    {
      "cell_type": "markdown",
      "source": [
        "1.  Load the following dataset into Colab and perform the requested operations in code.\n",
        "\n",
        " Source: https://ds1002-resources.s3.amazonaws.com/data/ride_sharing.csv"
      ],
      "metadata": {
        "id": "WlPHuSLARJBJ"
      }
    },
    {
      "cell_type": "code",
      "source": [
        "import pandas as pd\n",
        "df = pd.read_csv('https://ds1002-resources.s3.amazonaws.com/data/ride_sharing.csv')\n",
        "\n"
      ],
      "metadata": {
        "id": "kdFLCHtOg53p"
      },
      "execution_count": 2,
      "outputs": []
    },
    {
      "cell_type": "code",
      "source": [
        "# show how many rows and columns are in this dataset\n",
        "num_rows, num_columns = df.shape\n",
        "print(\"Number of rows:\", num_rows)\n",
        "print(\"Number of columns:\", num_columns)"
      ],
      "metadata": {
        "id": "Lfh8suAyhKQW",
        "outputId": "61418e37-4a87-4683-e0a7-b9ad996bb388",
        "colab": {
          "base_uri": "https://localhost:8080/"
        }
      },
      "execution_count": 3,
      "outputs": [
        {
          "output_type": "stream",
          "name": "stdout",
          "text": [
            "Number of rows: 25760\n",
            "Number of columns: 10\n"
          ]
        }
      ]
    },
    {
      "cell_type": "code",
      "source": [
        "# The first column, \"duration\" is seen as a string.\n",
        "# Using two snippets of code, clean this column up so that\n",
        "# is now an integer (int64)\n",
        "\n",
        "df['duration'] = df['duration'].astype(int)\n",
        "print(df)\n",
        "\n",
        "\n",
        "\n"
      ],
      "metadata": {
        "id": "KK5-y9nzhMVq",
        "outputId": "f6d32274-950b-4eb6-e5c5-75d07e603e4c",
        "colab": {
          "base_uri": "https://localhost:8080/"
        }
      },
      "execution_count": 15,
      "outputs": [
        {
          "output_type": "stream",
          "name": "stdout",
          "text": [
            "       duration  station_A_id  \\\n",
            "0            12            81   \n",
            "1            24             3   \n",
            "2             8            67   \n",
            "3             4            16   \n",
            "4            11            22   \n",
            "...         ...           ...   \n",
            "25755        11            15   \n",
            "25756        10            15   \n",
            "25757        14            15   \n",
            "25758        14            15   \n",
            "25759        29            16   \n",
            "\n",
            "                                          station_A_name  station_B_id  \\\n",
            "0                                     Berry St at 4th St           323   \n",
            "1           Powell St BART Station (Market St at 4th St)           118   \n",
            "2      San Francisco Caltrain Station 2  (Townsend St...            23   \n",
            "3                                Steuart St at Market St            28   \n",
            "4                                  Howard St at Beale St           350   \n",
            "...                                                  ...           ...   \n",
            "25755  San Francisco Ferry Building (Harry Bridges Pl...            34   \n",
            "25756  San Francisco Ferry Building (Harry Bridges Pl...            34   \n",
            "25757  San Francisco Ferry Building (Harry Bridges Pl...            42   \n",
            "25758  San Francisco Ferry Building (Harry Bridges Pl...            42   \n",
            "25759                            Steuart St at Market St           115   \n",
            "\n",
            "                                      station_B_name  bike_id  user_type  \\\n",
            "0                                 Broadway at Kearny     5480          2   \n",
            "1                    Eureka Valley Recreation Center     5193          2   \n",
            "2                      The Embarcadero at Steuart St     3652          3   \n",
            "3                       The Embarcadero at Bryant St     1883          1   \n",
            "4                               8th St at Brannan St     4626          2   \n",
            "...                                              ...      ...        ...   \n",
            "25755                 Father Alfred E Boeddeker Park     5063          1   \n",
            "25756                 Father Alfred E Boeddeker Park     5411          2   \n",
            "25757  San Francisco City Hall (Polk St at Grove St)     5157          2   \n",
            "25758  San Francisco City Hall (Polk St at Grove St)     4438          2   \n",
            "25759                             Jackson Playground     1705          3   \n",
            "\n",
            "       user_birth_year user_gender  tire_size  \n",
            "0                 1959        Male         26  \n",
            "1                 1965        Male         27  \n",
            "2                 1993        Male         29  \n",
            "3                 1979        Male         26  \n",
            "4                 1994        Male         27  \n",
            "...                ...         ...        ...  \n",
            "25755             2000        Male         26  \n",
            "25756             1998        Male         26  \n",
            "25757             1995        Male         26  \n",
            "25758             1995        Male         27  \n",
            "25759             1990        Male         27  \n",
            "\n",
            "[25760 rows x 10 columns]\n"
          ]
        }
      ]
    },
    {
      "cell_type": "code",
      "source": [
        "# Show the min and max values of ride durations (the shortest and longest rides)\n",
        "# Hint: If 'df' is the name of your dataframe, simply specify the column name\n",
        "# and then append the .min() or .max() methods.\n",
        "min_duration = df['duration'].min()\n",
        "max_duration = df['duration'].max()\n",
        "print(\"Shortest ride duration:\", min_duration)\n",
        "print(\"Longest ride duration:\", max_duration)"
      ],
      "metadata": {
        "id": "UCA1OswWh5b5",
        "outputId": "33744785-29c0-4657-a1ad-0795f91c0112",
        "colab": {
          "base_uri": "https://localhost:8080/"
        }
      },
      "execution_count": 16,
      "outputs": [
        {
          "output_type": "stream",
          "name": "stdout",
          "text": [
            "Shortest ride duration: 1\n",
            "Longest ride duration: 1372\n"
          ]
        }
      ]
    },
    {
      "cell_type": "code",
      "source": [
        "# Create a new dataframe object and populate it with rides that are 60 minutes or less.\n",
        "# Hint: Use the .query() method for the dataframe that we used in class.\n",
        "df_less_than_60 = df.query('duration <= 60')\n",
        "print(df_less_than_60)"
      ],
      "metadata": {
        "id": "K7mStv5kibbA",
        "outputId": "15c81b27-f4d0-41d4-f8c2-36cf81507db5",
        "colab": {
          "base_uri": "https://localhost:8080/"
        }
      },
      "execution_count": 17,
      "outputs": [
        {
          "output_type": "stream",
          "name": "stdout",
          "text": [
            "       duration  station_A_id  \\\n",
            "0            12            81   \n",
            "1            24             3   \n",
            "2             8            67   \n",
            "3             4            16   \n",
            "4            11            22   \n",
            "...         ...           ...   \n",
            "25755        11            15   \n",
            "25756        10            15   \n",
            "25757        14            15   \n",
            "25758        14            15   \n",
            "25759        29            16   \n",
            "\n",
            "                                          station_A_name  station_B_id  \\\n",
            "0                                     Berry St at 4th St           323   \n",
            "1           Powell St BART Station (Market St at 4th St)           118   \n",
            "2      San Francisco Caltrain Station 2  (Townsend St...            23   \n",
            "3                                Steuart St at Market St            28   \n",
            "4                                  Howard St at Beale St           350   \n",
            "...                                                  ...           ...   \n",
            "25755  San Francisco Ferry Building (Harry Bridges Pl...            34   \n",
            "25756  San Francisco Ferry Building (Harry Bridges Pl...            34   \n",
            "25757  San Francisco Ferry Building (Harry Bridges Pl...            42   \n",
            "25758  San Francisco Ferry Building (Harry Bridges Pl...            42   \n",
            "25759                            Steuart St at Market St           115   \n",
            "\n",
            "                                      station_B_name  bike_id  user_type  \\\n",
            "0                                 Broadway at Kearny     5480          2   \n",
            "1                    Eureka Valley Recreation Center     5193          2   \n",
            "2                      The Embarcadero at Steuart St     3652          3   \n",
            "3                       The Embarcadero at Bryant St     1883          1   \n",
            "4                               8th St at Brannan St     4626          2   \n",
            "...                                              ...      ...        ...   \n",
            "25755                 Father Alfred E Boeddeker Park     5063          1   \n",
            "25756                 Father Alfred E Boeddeker Park     5411          2   \n",
            "25757  San Francisco City Hall (Polk St at Grove St)     5157          2   \n",
            "25758  San Francisco City Hall (Polk St at Grove St)     4438          2   \n",
            "25759                             Jackson Playground     1705          3   \n",
            "\n",
            "       user_birth_year user_gender  tire_size  \n",
            "0                 1959        Male         26  \n",
            "1                 1965        Male         27  \n",
            "2                 1993        Male         29  \n",
            "3                 1979        Male         26  \n",
            "4                 1994        Male         27  \n",
            "...                ...         ...        ...  \n",
            "25755             2000        Male         26  \n",
            "25756             1998        Male         26  \n",
            "25757             1995        Male         26  \n",
            "25758             1995        Male         27  \n",
            "25759             1990        Male         27  \n",
            "\n",
            "[25544 rows x 10 columns]\n"
          ]
        }
      ]
    },
    {
      "cell_type": "code",
      "source": [
        "# Now show both the min and max values of the duration column for your new dataset.\n",
        "min_duration_less_than_60 = df_less_than_60['duration'].min()\n",
        "max_duration_less_than_60 = df_less_than_60['duration'].max()\n",
        "print(\"Shortest ride duration (<= 60 minutes):\", min_duration_less_than_60)\n",
        "print(\"Longest ride duration (<= 60 minutes):\", max_duration_less_than_60)"
      ],
      "metadata": {
        "id": "v63UdQjNi-w5",
        "outputId": "f3542519-03b4-491e-abf0-00a456d7178d",
        "colab": {
          "base_uri": "https://localhost:8080/"
        }
      },
      "execution_count": 18,
      "outputs": [
        {
          "output_type": "stream",
          "name": "stdout",
          "text": [
            "Shortest ride duration (<= 60 minutes): 1\n",
            "Longest ride duration (<= 60 minutes): 60\n"
          ]
        }
      ]
    },
    {
      "cell_type": "code",
      "source": [
        "# Using the new dataframe, update it so that is ONLY has records where\n",
        "# the tire_size is 26.\n",
        "df_filtered = df_less_than_60.query('tire_size == 26')\n",
        "print(df_filtered)"
      ],
      "metadata": {
        "id": "xTzb_j9rjGk2",
        "outputId": "f6814e59-d864-4795-8a63-20e5c512d5fe",
        "colab": {
          "base_uri": "https://localhost:8080/"
        }
      },
      "execution_count": 19,
      "outputs": [
        {
          "output_type": "stream",
          "name": "stdout",
          "text": [
            "       duration  station_A_id  \\\n",
            "0            12            81   \n",
            "3             4            16   \n",
            "6            16            67   \n",
            "9             5            30   \n",
            "12            7             3   \n",
            "...         ...           ...   \n",
            "25750        15            16   \n",
            "25751        15            16   \n",
            "25755        11            15   \n",
            "25756        10            15   \n",
            "25757        14            15   \n",
            "\n",
            "                                          station_A_name  station_B_id  \\\n",
            "0                                     Berry St at 4th St           323   \n",
            "3                                Steuart St at Market St            28   \n",
            "6      San Francisco Caltrain Station 2  (Townsend St...           107   \n",
            "9         San Francisco Caltrain (Townsend St at 4th St)            62   \n",
            "12          Powell St BART Station (Market St at 4th St)            27   \n",
            "...                                                  ...           ...   \n",
            "25750                            Steuart St at Market St           371   \n",
            "25751                            Steuart St at Market St           371   \n",
            "25755  San Francisco Ferry Building (Harry Bridges Pl...            34   \n",
            "25756  San Francisco Ferry Building (Harry Bridges Pl...            34   \n",
            "25757  San Francisco Ferry Building (Harry Bridges Pl...            42   \n",
            "\n",
            "                                      station_B_name  bike_id  user_type  \\\n",
            "0                                 Broadway at Kearny     5480          2   \n",
            "3                       The Embarcadero at Bryant St     1883          1   \n",
            "6                              17th St at Dolores St     1035          2   \n",
            "9                        Victoria Manalo Draves Park      333          1   \n",
            "12                           Beale St at Harrison St     1863          3   \n",
            "...                                              ...      ...        ...   \n",
            "25750                     Lombard St at Columbus Ave     4372          2   \n",
            "25751                     Lombard St at Columbus Ave     5246          1   \n",
            "25755                 Father Alfred E Boeddeker Park     5063          1   \n",
            "25756                 Father Alfred E Boeddeker Park     5411          2   \n",
            "25757  San Francisco City Hall (Polk St at Grove St)     5157          2   \n",
            "\n",
            "       user_birth_year user_gender  tire_size  \n",
            "0                 1959        Male         26  \n",
            "3                 1979        Male         26  \n",
            "6                 1981        Male         26  \n",
            "9                 1994        Male         26  \n",
            "12                1998        Male         26  \n",
            "...                ...         ...        ...  \n",
            "25750             1994        Male         26  \n",
            "25751             1995        Male         26  \n",
            "25755             2000        Male         26  \n",
            "25756             1998        Male         26  \n",
            "25757             1995        Male         26  \n",
            "\n",
            "[12761 rows x 10 columns]\n"
          ]
        }
      ]
    },
    {
      "cell_type": "code",
      "source": [
        "# Finally, produce a count of all records with FEMALE riders\n",
        "# using the 26-inch wheeled rental bikes for their rentals of\n",
        "# one hour or less.\n",
        "\n",
        "female_riders_count = df_filtered[df_filtered['user_gender'] == 'Female'].shape[0]\n",
        "print(\"Count the FEMALE riders using 26-inch wheeled rental bikes for rentals of one hour or less:\", female_riders_count)\n",
        "\n"
      ],
      "metadata": {
        "id": "0cwbfj66jrG9",
        "outputId": "aa5d7e97-d36e-4830-eaf7-3087c133f57b",
        "colab": {
          "base_uri": "https://localhost:8080/"
        }
      },
      "execution_count": 26,
      "outputs": [
        {
          "output_type": "stream",
          "name": "stdout",
          "text": [
            "Count the FEMALE riders using 26-inch wheeled rental bikes for rentals of one hour or less: 2962\n"
          ]
        }
      ]
    },
    {
      "cell_type": "markdown",
      "source": [
        "2. Find the file `more-messy-data.csv` on GitHub and upload it into Google Colab.\n",
        "\n",
        "Create a new Pandas DataFrame from that data and perform the following steps."
      ],
      "metadata": {
        "id": "YIlxzTRQSrl3"
      }
    },
    {
      "cell_type": "code",
      "source": [
        "# Write a snippet of code that will display the number of duplicate rows exist in the DF.\n",
        "df = pd.read_csv()"
      ],
      "metadata": {
        "id": "6O1caoy6S82Q"
      },
      "execution_count": null,
      "outputs": []
    },
    {
      "cell_type": "code",
      "source": [
        "# Next, remove all duplicate rows using Python.\n"
      ],
      "metadata": {
        "id": "-pDZ2xA-S8vd"
      },
      "execution_count": null,
      "outputs": []
    },
    {
      "cell_type": "code",
      "source": [
        "# For the FOUR columns involving sepal and petal length and width, update all NaN\n",
        "# values with the column mean.\n"
      ],
      "metadata": {
        "id": "Quf-P7L4S8oh"
      },
      "execution_count": null,
      "outputs": []
    },
    {
      "cell_type": "code",
      "source": [
        "# Find any values in the dataframe that are still missing, and delete them.\n"
      ],
      "metadata": {
        "id": "en_ReYsAS8f-"
      },
      "execution_count": null,
      "outputs": []
    },
    {
      "cell_type": "code",
      "source": [
        "# How many different species are there?\n"
      ],
      "metadata": {
        "id": "uqV9IHwDS75a"
      },
      "execution_count": null,
      "outputs": []
    },
    {
      "cell_type": "code",
      "source": [
        "# Clean up the 'species' variable so that there are exactly three different values.\n"
      ],
      "metadata": {
        "id": "G2j8HDgYT52P"
      },
      "execution_count": null,
      "outputs": []
    },
    {
      "cell_type": "markdown",
      "source": [
        "3. Bonus:  Regular expressions\n",
        "\n",
        "Ordinary (non-vanity) Virginia license plates have the form `ABC1234`, meaning they have three upper case letters followed by four digits.  Write a regular expression that matches any string of this form (and doesn't match anything else).  Test your expression with code to make sure it works.\n",
        "\n",
        "To figure out out how to do this, start with the sample code below.  The `re` package has various functions related to regular expressions, including for example `match()`, which takes two arguments, first the regular expression and second the test string, and tests to see whether the *beginning* of the `test` string matches the pattern `exp`.\n",
        "\n",
        "Note that `re.match(exp,test)` does not return a boolean variable, as you might expect (in other words, a match doesn't return `True` and a non-match `False`).  The type of object you get is called `re.Match`, which is a data type special to the `re` package.  (The reason for this is that the object contains more information than just whether there is a match or not.) However, you can turn it into a boolean using `bool()` if you want.\n",
        "\n",
        "Include the following in the notebook you submit:\n",
        "\n",
        " 1. A regular expression in a text chunk\n",
        " 2. One or more code chunks in which you test several strings to verify that your regex is correct.\n",
        " 3. Make sure you display the results of testing various strings.\n",
        "\n",
        " See this [documentation page](https://docs.python.org/3/howto/regex.html#regex-howto) for further help."
      ],
      "metadata": {
        "id": "CsMBqFDmX7Ax"
      }
    },
    {
      "cell_type": "code",
      "source": [
        "# Sample code for testing whether a string matches a regex\n",
        "\n",
        "# First import this package for working with regular expressions\n",
        "import re\n",
        "\n",
        "# Here is an example.\n",
        "# Play around with different expressions and test strings to see what happens.\n",
        "exp = 'ab+'\n",
        "test = 'aabbbc'\n",
        "\n",
        "if re.match(exp,test):\n",
        "  print(\"match!\")\n",
        "else:\n",
        "  print(\"no match\")\n",
        "\n",
        "# uncomment this line if you want\n",
        "# print(type(re.match(exp,test)))\n",
        "\n",
        "# uncomment this line if you want\n",
        "# print(bool(re.match(exp,test)))"
      ],
      "metadata": {
        "id": "LKbpBAxJZnXp"
      },
      "execution_count": null,
      "outputs": []
    }
  ]
}