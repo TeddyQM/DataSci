{
  "nbformat": 4,
  "nbformat_minor": 0,
  "metadata": {
    "colab": {
      "provenance": [],
      "authorship_tag": "ABX9TyO8P9E107uQ8kXc7bX69kpZ",
      "include_colab_link": true
    },
    "kernelspec": {
      "name": "python3",
      "display_name": "Python 3"
    },
    "language_info": {
      "name": "python"
    }
  },
  "cells": [
    {
      "cell_type": "markdown",
      "metadata": {
        "id": "view-in-github",
        "colab_type": "text"
      },
      "source": [
        "<a href=\"https://colab.research.google.com/github/TeddyQM/DataSci/blob/main/Feb_12_HW.ipynb\" target=\"_parent\"><img src=\"https://colab.research.google.com/assets/colab-badge.svg\" alt=\"Open In Colab\"/></a>"
      ]
    },
    {
      "cell_type": "code",
      "execution_count": 1,
      "metadata": {
        "colab": {
          "base_uri": "https://localhost:8080/"
        },
        "id": "dZh0XBrV_YvY",
        "outputId": "145e6f96-8b88-4853-cfd0-8680b6f2c597"
      },
      "outputs": [
        {
          "output_type": "stream",
          "name": "stdout",
          "text": [
            "Welcome! In this game, the computer will generate an integer between 1 and 100, and it is your job to guess the number. Good luck!\n",
            "Your Guess: 12\n",
            "Too low\n",
            "Your Guess: 98\n",
            "Too high\n",
            "Your Guess: 56\n",
            "Too low\n",
            "Your Guess: 73\n",
            "Too low\n",
            "Your Guess: 84\n",
            "You got it!\n",
            "It took you 5 guesses.\n"
          ]
        }
      ],
      "source": [
        "print(\"Welcome! In this game, the computer will generate an integer between 1 and 100, and it is your job to guess the number. Good luck!\")\n",
        "import numpy as np\n",
        "i = 0\n",
        "number = np.random.randint(1, 101)\n",
        "while True:\n",
        "  try:\n",
        "    i += 1\n",
        "    guess = int(input(\"Your Guess: \"))\n",
        "    if guess < 1 or guess > 100:\n",
        "      print(\"The guess must be an integer between 1 and 100.\")\n",
        "      i -= 1\n",
        "    if guess == number:\n",
        "      print(\"You got it!\")\n",
        "      if i == 1:\n",
        "        print(f\"It took you {i} guess.\")\n",
        "      else:\n",
        "        print(f\"It took you {i} guesses.\")\n",
        "      break\n",
        "    elif guess < number and 1 <= guess <= 100:\n",
        "      print(\"Too low\")\n",
        "    elif guess > number and 1 <= guess <= 100:\n",
        "     print(\"Too high\")\n",
        "  except ValueError:\n",
        "    print(\"The guess must be an integer.\")\n",
        "    i -= 1\n",
        "  except:\n",
        "    print(\"Invalid guess. Please guess an integer between 1 and 100.\")\n",
        "    i -= 1"
      ]
    }
  ]
}