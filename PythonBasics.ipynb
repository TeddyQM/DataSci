{
  "nbformat": 4,
  "nbformat_minor": 0,
  "metadata": {
    "colab": {
      "provenance": [],
      "include_colab_link": true
    },
    "kernelspec": {
      "name": "python3",
      "display_name": "Python 3"
    },
    "language_info": {
      "name": "python"
    }
  },
  "cells": [
    {
      "cell_type": "markdown",
      "metadata": {
        "id": "view-in-github",
        "colab_type": "text"
      },
      "source": [
        "<a href=\"https://colab.research.google.com/github/TeddyQM/DataSci/blob/main/PythonBasics.ipynb\" target=\"_parent\"><img src=\"https://colab.research.google.com/assets/colab-badge.svg\" alt=\"Open In Colab\"/></a>"
      ]
    },
    {
      "cell_type": "markdown",
      "source": [
        "# Python basics\n"
      ],
      "metadata": {
        "id": "4aXTw3hU3eF1"
      }
    },
    {
      "cell_type": "markdown",
      "source": [
        "## Variables\n",
        "\n",
        "Variables allow a developer to use a name to refer to a value. Just like math variables, this allows you to manipulate the variable as an entity of its own, independent of what its value happens to be. In particular you can refer to the value by name; then you don't have to change the reference even if the value changes. Variables should be thought of as key-value pairs, keeping in mind that the \"value\" half can sometimes be quite complex.\n",
        "A variable can have a short name (like x or y) or a more descriptive name (age, subject_id, total_volume).\n",
        "\n",
        "Rules for Python variables:\n",
        "\n",
        "\n",
        "*   A variable name can only contain alpha-numeric characters and underscores (A-z, 0-9, and _ )\n",
        "\n",
        "*   A variable name must start with a letter or the underscore character\n",
        "\n",
        "*   A variable name cannot start with a number\n",
        "\n",
        "*   Variable names are case-sensitive (age, Age and AGE are three different variables)\n",
        "\n",
        "\n"
      ],
      "metadata": {
        "id": "lJTYqlp23nTG"
      }
    },
    {
      "cell_type": "code",
      "source": [
        "# a simple key-value pair, a variable and its value:\n",
        "\n",
        "favorite_number = 17"
      ],
      "metadata": {
        "id": "ULSNvFq_4vJu"
      },
      "execution_count": null,
      "outputs": []
    },
    {
      "cell_type": "code",
      "source": [
        "print(favorite_number)"
      ],
      "metadata": {
        "id": "CsK9kIFMSP-_",
        "outputId": "aea964bf-ec23-44cf-ce6a-e877d408784d",
        "colab": {
          "base_uri": "https://localhost:8080/"
        }
      },
      "execution_count": null,
      "outputs": [
        {
          "output_type": "stream",
          "name": "stdout",
          "text": [
            "17\n"
          ]
        }
      ]
    },
    {
      "cell_type": "markdown",
      "source": [
        "Define and populate a variable of your own below:\n"
      ],
      "metadata": {
        "id": "av3O4RuM41h6"
      }
    },
    {
      "cell_type": "code",
      "execution_count": null,
      "metadata": {
        "id": "eZRA-gw03chu"
      },
      "outputs": [],
      "source": []
    },
    {
      "cell_type": "markdown",
      "source": [
        "**More Complex Variables**\n",
        "\n",
        "A variable can be populated with all sorts of data types:\n",
        "\n",
        "integers, booleans, strings, lists, tuples, dictionaries, etc."
      ],
      "metadata": {
        "id": "06bptNCB5Df6"
      }
    },
    {
      "cell_type": "code",
      "source": [
        "yellow_fruit = \"banana\"\n",
        "happy = True\n",
        "number = 3.14"
      ],
      "metadata": {
        "id": "EHgWkz4R5ZPX"
      },
      "execution_count": null,
      "outputs": []
    },
    {
      "cell_type": "code",
      "source": [
        "print(yellow_fruit)\n",
        "print(number)"
      ],
      "metadata": {
        "id": "YTo74CvY5aKh",
        "outputId": "479d9899-8b03-49c2-efd6-8ca374690260",
        "colab": {
          "base_uri": "https://localhost:8080/"
        }
      },
      "execution_count": null,
      "outputs": [
        {
          "output_type": "stream",
          "name": "stdout",
          "text": [
            "banana\n",
            "3.14\n"
          ]
        }
      ]
    },
    {
      "cell_type": "code",
      "source": [
        "type(number)"
      ],
      "metadata": {
        "id": "CuiVxF8w5hjR",
        "outputId": "eda31ec7-b859-487f-dd5b-5e0f4e80a4ed",
        "colab": {
          "base_uri": "https://localhost:8080/"
        }
      },
      "execution_count": null,
      "outputs": [
        {
          "output_type": "execute_result",
          "data": {
            "text/plain": [
              "float"
            ]
          },
          "metadata": {},
          "execution_count": 6
        }
      ]
    },
    {
      "cell_type": "markdown",
      "source": [
        "## Lists\n",
        "\n",
        "You can put a list of items into a variable, too."
      ],
      "metadata": {
        "id": "B_cTF_2c5GEH"
      }
    },
    {
      "cell_type": "code",
      "source": [
        "fruit = [\"grape\", \"orange\", yellow_fruit]"
      ],
      "metadata": {
        "id": "VNUPO-jq7QuN"
      },
      "execution_count": null,
      "outputs": []
    },
    {
      "cell_type": "code",
      "source": [
        "print(fruit)"
      ],
      "metadata": {
        "id": "8nlaF1ix7XFv",
        "outputId": "f41069f5-bcda-446c-ff6a-9923012edf5d",
        "colab": {
          "base_uri": "https://localhost:8080/"
        }
      },
      "execution_count": null,
      "outputs": [
        {
          "output_type": "stream",
          "name": "stdout",
          "text": [
            "['grape', 'orange', 'banana']\n"
          ]
        }
      ]
    },
    {
      "cell_type": "markdown",
      "source": [
        "## Indexing\n",
        "\n",
        "To access individual members of a list, you can use the index.\n",
        "\n",
        "Indices in Python (and most other languages, though notably not R) start at 0!"
      ],
      "metadata": {
        "id": "clhLiKST7n3g"
      }
    },
    {
      "cell_type": "code",
      "source": [
        "fruit[1]"
      ],
      "metadata": {
        "id": "toJaJADv70fZ"
      },
      "execution_count": null,
      "outputs": []
    },
    {
      "cell_type": "code",
      "source": [
        "type(fruit)"
      ],
      "metadata": {
        "id": "Z9QZjVXF73e_"
      },
      "execution_count": null,
      "outputs": []
    },
    {
      "cell_type": "code",
      "source": [
        "type(fruit[1])"
      ],
      "metadata": {
        "id": "ctaGmU1975u8"
      },
      "execution_count": null,
      "outputs": []
    },
    {
      "cell_type": "markdown",
      "source": [
        "If you know an element is part of a list but you don't know its index, you can get it:"
      ],
      "metadata": {
        "id": "GBeAC58K8DkG"
      }
    },
    {
      "cell_type": "code",
      "source": [
        "grape_index = fruit.index(\"banana\")"
      ],
      "metadata": {
        "id": "_L9gbaWK8K9Y"
      },
      "execution_count": null,
      "outputs": []
    },
    {
      "cell_type": "code",
      "source": [
        "grape_index"
      ],
      "metadata": {
        "id": "uxeeoeaZ8UYz",
        "outputId": "de7074f4-c40b-455f-9022-64496591082b",
        "colab": {
          "base_uri": "https://localhost:8080/"
        }
      },
      "execution_count": null,
      "outputs": [
        {
          "output_type": "execute_result",
          "data": {
            "text/plain": [
              "2"
            ]
          },
          "metadata": {},
          "execution_count": 14
        }
      ]
    },
    {
      "cell_type": "markdown",
      "source": [
        "## Functions and arguments\n",
        "\n",
        "You can write functions in Python.  Functions do something.  Typically a function takes one or more inputs, uses the input to do its thing, and then returns a value or an output."
      ],
      "metadata": {
        "id": "YNyD8nKN8pmp"
      }
    },
    {
      "cell_type": "code",
      "source": [
        "test_list = [ 3, \"banana\"]\n",
        "# print(test_list)"
      ],
      "metadata": {
        "id": "NHw6Hj9yVyTd"
      },
      "execution_count": null,
      "outputs": []
    },
    {
      "cell_type": "code",
      "source": [
        "def add(firstval, secondval):\n",
        "    total = firstval + secondval\n",
        "    print(total)"
      ],
      "metadata": {
        "id": "_IyjJVVX86zo"
      },
      "execution_count": null,
      "outputs": []
    },
    {
      "cell_type": "code",
      "source": [
        "add(10,7)"
      ],
      "metadata": {
        "id": "83QQkjyu9GVh",
        "outputId": "4df72983-1705-4229-fd6d-a7d0dfb98131",
        "colab": {
          "base_uri": "https://localhost:8080/"
        }
      },
      "execution_count": null,
      "outputs": [
        {
          "output_type": "stream",
          "name": "stdout",
          "text": [
            "17\n"
          ]
        }
      ]
    },
    {
      "cell_type": "code",
      "source": [
        "firstval"
      ],
      "metadata": {
        "id": "6wlw6-WyX-Nt"
      },
      "execution_count": null,
      "outputs": []
    },
    {
      "cell_type": "code",
      "source": [
        "first = 22\n",
        "second = 12\n",
        "add(first,second)"
      ],
      "metadata": {
        "id": "8Hd_GoWD9LFx",
        "outputId": "1d47c0ca-4b7f-4ee3-c462-2c527a5d34f3",
        "colab": {
          "base_uri": "https://localhost:8080/"
        }
      },
      "execution_count": null,
      "outputs": [
        {
          "output_type": "stream",
          "name": "stdout",
          "text": [
            "34\n"
          ]
        }
      ]
    },
    {
      "cell_type": "markdown",
      "source": [
        "Try it yourself below:\n",
        "\n",
        "*   Choose a variable name and give it a value\n",
        "*   Choose another variable name and give it a value\n",
        "*   Add the two values using the add() function\n"
      ],
      "metadata": {
        "id": "2bX_gKIw92bG"
      }
    },
    {
      "cell_type": "code",
      "source": [],
      "metadata": {
        "id": "3JoP4mIMY7IM"
      },
      "execution_count": null,
      "outputs": []
    },
    {
      "cell_type": "markdown",
      "source": [
        "Here is another example.  What do you think it does?"
      ],
      "metadata": {
        "id": "_JJIOM-7-VDa"
      }
    },
    {
      "cell_type": "code",
      "source": [
        "def divide(a,b):\n",
        "  q = a//b\n",
        "  r = a % b\n",
        "  print(str(a) + \" divided by \" + str(b) + \" equals \" + str(q) + \" with a remainder of \" + str(r))\n"
      ],
      "metadata": {
        "id": "6Cufxlpi93iS"
      },
      "execution_count": null,
      "outputs": []
    },
    {
      "cell_type": "code",
      "source": [
        "divide(17,5)"
      ],
      "metadata": {
        "id": "Gk5s0Ykhaa4A",
        "outputId": "64f7367f-2ceb-48b0-a3a9-26137610e3ba",
        "colab": {
          "base_uri": "https://localhost:8080/"
        }
      },
      "execution_count": null,
      "outputs": [
        {
          "output_type": "stream",
          "name": "stdout",
          "text": [
            "17 divided by 5 equals 3 with a remainder of 2\n"
          ]
        }
      ]
    },
    {
      "cell_type": "markdown",
      "source": [
        "## Math operations\n",
        "\n",
        "$+$  addition\n",
        "\n",
        "$-$  subtraction\n",
        "\n",
        "$*$  multiplication\n",
        "\n",
        "$/$  division\n",
        "\n",
        "$**$ exponentiation (not the carat $^$ !)\n",
        "\n",
        "$\\%$  modulus (gives the remainder only, upon division)\n",
        "\n",
        "$//$ floor division (gives the quotient only, upon division)\n",
        "\n",
        "\n",
        "\n",
        "If you want, you can experiment and try to figure out what the carat does."
      ],
      "metadata": {
        "id": "K1nCX4B3-aoW"
      }
    },
    {
      "cell_type": "markdown",
      "source": [
        "Experiment here with variables, lists and indices, and math operations.\n",
        "\n",
        "(If you want, you can try to figure out what the carat does.  It's tricky!  (unless you look it up))"
      ],
      "metadata": {
        "id": "Ufx3yw1EBDst"
      }
    },
    {
      "cell_type": "code",
      "source": [
        "3^14"
      ],
      "metadata": {
        "id": "tLnSoA_w_Ph3",
        "outputId": "f68cd147-0c19-4cbd-a725-05fe3ee77143",
        "colab": {
          "base_uri": "https://localhost:8080/"
        }
      },
      "execution_count": null,
      "outputs": [
        {
          "output_type": "execute_result",
          "data": {
            "text/plain": [
              "13"
            ]
          },
          "metadata": {},
          "execution_count": 25
        }
      ]
    }
  ]
}