{
  "cells": [
    {
      "cell_type": "markdown",
      "metadata": {
        "id": "view-in-github",
        "colab_type": "text"
      },
      "source": [
        "<a href=\"https://colab.research.google.com/github/TeddyQM/DataSci/blob/main/Assignment_12_CAPM.ipynb\" target=\"_parent\"><img src=\"https://colab.research.google.com/assets/colab-badge.svg\" alt=\"Open In Colab\"/></a>"
      ]
    },
    {
      "cell_type": "markdown",
      "metadata": {
        "id": "Pz4oXuFbf1pe"
      },
      "source": [
        "## Capital Asset Pricing Model (CAPM)\n",
        "\n",
        "### Assignment due Monday 22 April at noon\n",
        "\n",
        "---"
      ]
    },
    {
      "cell_type": "markdown",
      "metadata": {
        "id": "K-eHlG5gf1pf"
      },
      "source": [
        "### Objectives\n",
        "\n",
        "This assignment is primarily meant to refresh your numpy and pandas skills.  \n",
        "Technical objectives are discussed below.  \n",
        "\n",
        "- All the usual rules apply:  you may work together (groups of at most 3), make sure all names are easy to find at the top of the submission, submit the link to your working colab notebook\n",
        "\n",
        "\n",
        "### Background\n",
        "\n",
        "In finance, CAPM is a single-factor regression model used for analyzing (and predicting) excess stock returns. There are better, more accurate models, but it has its uses. For example, the *market beta* is a useful output which has something to do with the risk of particular investments.\n",
        "\n",
        "1.  Read [this brief synopsis](https://en.wikipedia.org/wiki/Capital_asset_pricing_model) of CAPM.\n",
        "\n",
        "\n",
        "Don't worry if you don't understand all the terminology.\n",
        "Look for a moment at the main formula (in the \"Formula\" section).  For us that formula will look like this:\n",
        "\n",
        "\\begin{aligned}\n",
        "E(R_A) = R_f + \\beta_A (E(R_{SP}) - R_f)\n",
        "\\end{aligned}\n",
        "\n",
        "Some notes on the symbols in this formula:\n",
        "- The formula is used to estimate $E(R_A)$.  The $E$ here stands for the expected value, and $R_A$ is the rate of return of the investment $A$.\n",
        "- To use this formula, you therefore need to know the values of the other variables.\n",
        "- The variable $R_f$ is the \"risk-free rate,\" which is the amount of return you can get on an investment that has zero risk, like say a bank account.\n",
        "This quantity changes over time but for our purposes we can treat it as a constant.  It is hard-coded into the code below.  Make sure you see where this variable occurs in the formula above.\n",
        "- In this assignment the variable $R_{SP}$ is a measure of the rate of return of the overall market.  (The $E$ on the right side also means expected value.)\n",
        "- The variable $\\beta_A$ measures something about the relative risk of the investment A, relative to the overall market.  The technical objective of this assignment will be to compute $\\beta_A$ below, and then to examine how sensitive it is to the specific data.\n",
        "- The value you get for $\\beta_A$ will be a number.  If it is greater than 1, it means (*very roughly*) that the investment A is more volatile than the overall market.  If it is less than 1, it means that the investment is less volatile than the overall market.  But **do not take this too seriously!** In particular see all the caveats at the wikipedia page.\n",
        "- The A investment in our example is an individual stock (Apple).\n",
        "\n"
      ]
    },
    {
      "cell_type": "markdown",
      "metadata": {
        "id": "bHqzHCZnf1pg"
      },
      "source": [
        "2.  Load the packages and data.  (Note that the following code chunk also hard-codes the constant $R_f$.)  \n",
        "The data lives in the file `capm_market_data` in the `data` folder on the `GitHub` site."
      ]
    },
    {
      "cell_type": "code",
      "execution_count": 134,
      "metadata": {
        "id": "iRPr8YvJf1pg",
        "colab": {
          "base_uri": "https://localhost:8080/"
        },
        "outputId": "f8f3d6c7-f55d-47e4-d45d-655bb930f464"
      },
      "outputs": [
        {
          "output_type": "stream",
          "name": "stdout",
          "text": [
            "         date  spy_adj_close  aapl_adj_close\n",
            "0  2020-01-02     321.555786      298.829956\n",
            "1  2020-01-03     319.120911      295.924713\n",
            "2  2020-01-06     320.338379      298.282715\n",
            "3  2020-01-07     319.437653      296.879883\n",
            "4  2020-01-08     321.140106      301.655548\n"
          ]
        }
      ],
      "source": [
        "import numpy as np\n",
        "import pandas as pd\n",
        "\n",
        "df = pd.read_csv(\"https://raw.githubusercontent.com/aaron-abrams-uva/DS1002-S24/main/data/capm_market_data.csv\")\n",
        "print(df.head())\n",
        "\n",
        "R_f = 0.0175 / 252\n"
      ]
    },
    {
      "cell_type": "markdown",
      "metadata": {
        "id": "PLXAZx6xf1ph"
      },
      "source": [
        "3.  Look at some records.  \n",
        "SPY is something that mirrors the S&P 500 (\"the market\").  \n",
        "AAPL is the code for Apple stock.  \n",
        "The values are closing prices, adjusted for splits and dividends."
      ]
    },
    {
      "cell_type": "markdown",
      "metadata": {
        "id": "y8uzBoHpf1ph"
      },
      "source": [
        "4.  Drop the date column"
      ]
    },
    {
      "cell_type": "code",
      "source": [
        "df = pd.read_csv(\"https://raw.githubusercontent.com/aaron-abrams-uva/DS1002-S24/main/data/capm_market_data.csv\")\n",
        "\n",
        "df = df.drop('date', axis=1)\n",
        "print(df.head())\n",
        "\n",
        "\n"
      ],
      "metadata": {
        "colab": {
          "base_uri": "https://localhost:8080/"
        },
        "id": "eu-oWRXEY93f",
        "outputId": "2881b38e-978d-449a-c30e-f2c87db2d860"
      },
      "execution_count": 136,
      "outputs": [
        {
          "output_type": "stream",
          "name": "stdout",
          "text": [
            "   spy_adj_close  aapl_adj_close\n",
            "0     321.555786      298.829956\n",
            "1     319.120911      295.924713\n",
            "2     320.338379      298.282715\n",
            "3     319.437653      296.879883\n",
            "4     321.140106      301.655548\n"
          ]
        }
      ]
    },
    {
      "cell_type": "markdown",
      "metadata": {
        "id": "fyE1w8F2f1ph"
      },
      "source": [
        "5.  Compute daily returns (percentage changes in price) for both SPY and AAPL.\n",
        "(Be sure to drop the first row of NaN.)  \n",
        "Hint: pandas has functions to easily do this.  \n",
        "Print the first 5 rows of returns.\n"
      ]
    },
    {
      "cell_type": "code",
      "source": [
        "df['spy_daily_returns'] = df['spy_adj_close'].pct_change()\n",
        "df['aapl_daily_returns'] = df['aapl_adj_close'].pct_change()\n",
        "df = df.dropna()\n",
        "print(df[['spy_daily_returns', 'aapl_daily_returns']].head())"
      ],
      "metadata": {
        "colab": {
          "base_uri": "https://localhost:8080/"
        },
        "id": "TxTVdJjQa318",
        "outputId": "517623ea-5f2a-46f9-95c3-2e9c4d3803da"
      },
      "execution_count": 138,
      "outputs": [
        {
          "output_type": "stream",
          "name": "stdout",
          "text": [
            "   spy_daily_returns  aapl_daily_returns\n",
            "2           0.003815            0.007968\n",
            "3          -0.002812           -0.004703\n",
            "4           0.005330            0.016086\n",
            "5           0.006781            0.021241\n",
            "6          -0.002878            0.002261\n"
          ]
        }
      ]
    },
    {
      "cell_type": "markdown",
      "metadata": {
        "id": "qA51CJQUf1pi"
      },
      "source": [
        "6.  Save the SPY and AAPL returns into separate numpy arrays.  \n",
        "Print the first five values from each of the two arrays.\n"
      ]
    },
    {
      "cell_type": "code",
      "execution_count": 141,
      "metadata": {
        "id": "uTx4aa7of1pi",
        "colab": {
          "base_uri": "https://localhost:8080/"
        },
        "outputId": "c3af4436-6c9d-488f-f7c9-a11045b84263"
      },
      "outputs": [
        {
          "output_type": "stream",
          "name": "stdout",
          "text": [
            "First five return values for SPY numpy array:\n",
            "[-0.00757217  0.00381507 -0.0028118   0.00532953  0.00678059]\n",
            "First five return values for AAPL numpy array:\n",
            "[-0.00972206  0.00796825 -0.00470303  0.01608619  0.02124092]\n"
          ]
        }
      ],
      "source": [
        "spy_daily_returns = df['spy_daily_returns'].values\n",
        "aapl_daily_returns = df['aapl_daily_returns'].values\n",
        "\n",
        "print(\"First five return values for SPY numpy array:\")\n",
        "print(spy_returns[:5])\n",
        "\n",
        "print(\"First five return values for AAPL numpy array:\")\n",
        "print(aapl_returns[:5])"
      ]
    },
    {
      "cell_type": "markdown",
      "metadata": {
        "id": "SO4C0unXf1pi"
      },
      "source": [
        "7.  Make arrays (one for SPY, one for AAPL) containing the *excess* returns by subtracting the constant $R_f$ from the returns.  \n",
        "(Recall that $R_f$ is the \"risk-free rate\" meaning essentially that you could earn this much in interest if you didn't invest in anything.)  \n",
        "Print the LAST five excess returns from both SPY and AAPL numpy arrays."
      ]
    },
    {
      "cell_type": "code",
      "execution_count": 142,
      "metadata": {
        "id": "o8XOunw5f1pi",
        "colab": {
          "base_uri": "https://localhost:8080/"
        },
        "outputId": "886acea5-a439-4be2-f5ac-6254c02af13d"
      },
      "outputs": [
        {
          "output_type": "stream",
          "name": "stdout",
          "text": [
            "Last five excess returns for SPY numpy arrays:\n",
            "[-0.00576237  0.0101411  -0.00872841  0.01288957  0.00911779]\n",
            "\n",
            "Last five excess returns for AAPL numpy arrays:\n",
            "[ 0.00423088  0.00167981 -0.00468264  0.01647898  0.00680788]\n"
          ]
        }
      ],
      "source": [
        "R_f = 0.0175 / 252\n",
        "\n",
        "spy_excess_returns_numpy_arrays = spy_returns - R_f\n",
        "aapl_excess_returns_numpy_arrays = aapl_returns - R_f\n",
        "\n",
        "\n",
        "print(\"Last five excess returns for SPY numpy arrays:\")\n",
        "print(spy_excess_returns[-5:])\n",
        "\n",
        "print(\"\\nLast five excess returns for AAPL numpy arrays:\")\n",
        "print(aapl_excess_returns[-5:])\n"
      ]
    },
    {
      "cell_type": "code",
      "source": [],
      "metadata": {
        "id": "pseX4KLMnqH3"
      },
      "execution_count": null,
      "outputs": []
    },
    {
      "cell_type": "markdown",
      "metadata": {
        "id": "-DUdB1GGf1pi"
      },
      "source": [
        "8. Make a scatterplot with SPY excess returns on the $x$-axis and AAPL excess returns on the $y$-axis.  \n",
        "If you need it, here is the [Matplotlib documentation]( https://matplotlib.org/stable/api/_as_gen/matplotlib.pyplot.scatter.html)."
      ]
    },
    {
      "cell_type": "code",
      "source": [
        "import matplotlib.pyplot as plt\n",
        "plt.figure(figsize=(8, 6))\n",
        "\n",
        "plt.scatter(spy_excess_returns_numpy_arrays, aapl_excess_returns_numpy_arrays, alpha=0.5)\n",
        "plt.title('Scatter Plot of SPY Excess Returns and AAPL Excess Returns')\n",
        "\n",
        "plt.xlabel('SPY Excess Returns')\n",
        "plt.ylabel('AAPL Excess Returns')\n",
        "plt.grid(True)\n",
        "plt.show()"
      ],
      "metadata": {
        "colab": {
          "base_uri": "https://localhost:8080/",
          "height": 564
        },
        "id": "IE8WbH7Jh9Wu",
        "outputId": "2846703c-4ca5-4103-c5e0-c4dca63853be"
      },
      "execution_count": 144,
      "outputs": [
        {
          "output_type": "display_data",
          "data": {
            "text/plain": [
              "<Figure size 800x600 with 1 Axes>"
            ],
            "image/png": "[encoded data removed]"
          },
          "metadata": {}
        }
      ]
    },
    {
      "cell_type": "markdown",
      "metadata": {
        "id": "LCJPl-d9f1pi"
      },
      "source": [
        "The value of $\\beta_A$ is computed from the arrays you built in problem 7, via a formula that uses some statistical functions called the \"variance\" and the \"covariance.\"\n",
        "\n",
        "Any individual 1-d array of numbers has a variance, which you can compute using `numpy`'s function `var()` (documented [here](https://numpy.org/doc/stable/reference/generated/numpy.var.html)).  This is a number.\n",
        "\n",
        "If you have two 1-d arrays of the same length, they collectively have something called a covariance which `numpy` also can compute using `cov()` (documented [here](https://numpy.org/doc/stable/reference/generated/numpy.cov.html)).\n",
        "\n",
        "The covariance is also a number, but look at what happens when you send two 1-d arrays to `cov()`: it returns a $2\\times 2$ matrix.  (Try it!)  The covariance we are looking for is the number that lives in both the top right and the bottom left of this matrix.  (Those two numbers should be the same.)  The top left and bottom right entries of the covariance matrix also have meaning, but we don't need them.\n",
        "\n"
      ]
    },
    {
      "cell_type": "markdown",
      "source": [
        "9. Use `numpy` functions as described above to compute the estimate of $\\beta_A$, using the following formula:  \n",
        "\\begin{aligned} \\beta_A= \\frac{ \\text{cov}(A,SP) }{ \\text{var}(SP) } \\end{aligned}\n",
        "In our context, A will be the 1-d array you made in problem 7 for AAPL, and SP will be the 1-d array you made for SPY."
      ],
      "metadata": {
        "id": "bb0j7Vi7quGp"
      }
    },
    {
      "cell_type": "code",
      "execution_count": 145,
      "metadata": {
        "id": "blGso0pMf1pj",
        "colab": {
          "base_uri": "https://localhost:8080/"
        },
        "outputId": "ce5ae99c-a0a5-4cf4-afcf-d7629627f5d1"
      },
      "outputs": [
        {
          "output_type": "stream",
          "name": "stdout",
          "text": [
            "Beta for AAPL (β_A) = 1.0956172644197222\n"
          ]
        }
      ],
      "source": [
        "\n",
        "covariance = np.cov(aapl_excess_returns_numpy_arrays, spy_excess_returns_numpy_arrays)[0, 1]\n",
        "\n",
        "\n",
        "variance = np.var(spy_excess_returns_numpy_arrays)\n",
        "\n",
        "\n",
        "beta_AAPL = covariance / variance\n",
        "\n",
        "print(\"Beta for AAPL (β_A) =\", beta_AAPL)"
      ]
    },
    {
      "cell_type": "markdown",
      "metadata": {
        "id": "02POpgABf1pj"
      },
      "source": [
        "You should have found that the beta estimate is greater than one.  \n",
        "This means that the volatility of AAPL stock, given the data, and according to this particular (flawed) model,\n",
        "is higher than the volatility of the S&P 500.\n",
        "\n",
        "Bonus:  Is this something you can see on the plot you made?\n",
        "\n"
      ]
    },
    {
      "cell_type": "markdown",
      "source": [
        "Yes."
      ],
      "metadata": {
        "id": "VDEynKxPly7e"
      }
    },
    {
      "cell_type": "markdown",
      "source": [],
      "metadata": {
        "id": "aeLasrWag1S4"
      }
    },
    {
      "cell_type": "markdown",
      "metadata": {
        "id": "5jCGs8igf1pj"
      },
      "source": [
        "Finally, let's look at how sensitive the beta is to each data point.   \n",
        "We want to drop each data point (one at a time), compute \\\\(\\hat\\beta_i\\\\) using our formula from above, and save each measurement.\n",
        "\n",
        "This is called *jackknifing*.\n",
        "\n"
      ]
    },
    {
      "cell_type": "markdown",
      "source": [
        "10. Write a function called `beta_sensitivity()` with these specs:\n",
        "\n",
        "- take numpy arrays `x` and `y` as inputs\n",
        "- outputs a list of tuples, so that each tuple contains (observation row dropped, beta estimate)\n",
        "\n",
        "Hint: **np.delete(x, i).reshape(-1,1)** will delete observation i from array x, and make it a column vector"
      ],
      "metadata": {
        "id": "VhlkawRDeV8Z"
      }
    },
    {
      "cell_type": "code",
      "execution_count": 146,
      "metadata": {
        "id": "LyT1XSF8f1pj",
        "colab": {
          "base_uri": "https://localhost:8080/"
        },
        "outputId": "ffc0d932-831e-4a76-a515-b6ee7e361b3a"
      },
      "outputs": [
        {
          "output_type": "stream",
          "name": "stdout",
          "text": [
            "[(None, 1.0956172644197222), (0, 1.1029086783863766), (1, 1.1037237509595221), (2, 1.103678464865672), (3, 1.103222167223882), (4, 1.1026766186561043), (5, 1.1039084109777846), (6, 1.102649538277961), (7, 1.1036013459124216), (8, 1.1040501023620306), (9, 1.1030951386265953), (10, 1.103675494107992), (11, 1.1036921886471134), (12, 1.103920184030712), (13, 1.1038991912566252), (14, 1.1033979597837582), (15, 1.0984907375848372), (16, 1.101222439018755), (17, 1.104147103442405), (18, 1.1040354356765827), (19, 1.094919743422026), (20, 1.1043024120405447), (21, 1.0992245713893956), (22, 1.103266414961728), (23, 1.1036338197659867), (24, 1.1029643239238287), (25, 1.103754269984276), (26, 1.1040374470317662), (27, 1.1025846528887628), (28, 1.1037729055058156), (29, 1.1039462882128828), (30, 1.1032794317551249), (31, 1.103372258830103), (32, 1.103323163683409), (33, 1.1011348580120306), (34, 1.0865367999315096), (35, 1.0923509164369862), (36, 1.1044778012915708), (37, 1.0720691327127918), (38, 1.1037697648416354), (39, 1.0636480240397617), (40, 1.0936152967883903), (41, 1.084996573664885), (42, 1.0917424972303875), (43, 1.1011489592156527), (44, 1.0375809586438034), (45, 1.0669461087936063), (46, 1.0849601146234593), (47, 1.0031561118284429), (48, 1.0005381087536984), (49, 0.9547415367280946), (50, 1.080905020173077), (51, 1.0896486851514477), (52, 1.1041016425693724), (53, 1.074194930589516), (54, 1.0975291967797214), (55, 1.0125284592050448), (56, 1.1051317757052412), (57, 1.073818488826929), (58, 1.0901931266435392), (59, 1.0952705688028246), (60, 1.1031943179779349), (61, 1.0779971990710224), (62, 1.1005888819769847), (63, 1.1013213238699873), (64, 1.045321307599502), (65, 1.1040109897017065), (66, 1.0959879636065604), (67, 1.1031967592153165), (68, 1.105601603113791), (69, 1.089450868285241), (70, 1.101306918600183), (71, 1.103667909015413), (72, 1.108357809831416), (73, 1.0995774019405304), (74, 1.0932709633786846), (75, 1.0979803100354795), (76, 1.1038875030269062), (77, 1.1002178299193137), (78, 1.1041820625867875), (79, 1.1029515184532361), (80, 1.095816100427329), (81, 1.105780924893421), (82, 1.0987371700030446), (83, 1.1036310084460121), (84, 1.1027719597197785), (85, 1.1044949141796514), (86, 1.1029710134490367), (87, 1.1003550451171529), (88, 1.1039411634503355), (89, 1.1009818033463483), (90, 1.1011855391226153), (91, 1.1034833473064203), (92, 1.1042860647673944), (93, 1.0973642218492579), (94, 1.10300126985462), (95, 1.1010065854043918), (96, 1.1031644191748755), (97, 1.1038558126463913), (98, 1.1050676752432473), (99, 1.1036425735178217), (100, 1.1038693299438997), (101, 1.1040652267479414), (102, 1.1035467322833272), (103, 1.1037453415539897), (104, 1.10351860395896), (105, 1.1035706352233896), (106, 1.0971298169572368), (107, 1.1035068486756456), (108, 1.106275023571016), (109, 1.1053492775118157), (110, 1.0735444131105107), (111, 1.1031839518699749), (112, 1.1030045690236487), (113, 1.0992320404977953), (114, 1.1037334274497808), (115, 1.1039175290740375), (116, 1.1033972271718144), (117, 1.1024396795360671), (118, 1.1030940093938246), (119, 1.0985069758285615), (120, 1.102766127892723), (121, 1.0956068212049375), (122, 1.1008743431557504), (123, 1.1031680222445344), (124, 1.104220607342324), (125, 1.1040516054457086), (126, 1.1001395329715002), (127, 1.103293914034016), (128, 1.10235408005682), (129, 1.1040289163959496), (130, 1.1039965871476392), (131, 1.1032490279010865), (132, 1.1020905016092526), (133, 1.1035205211558894)]\n"
          ]
        }
      ],
      "source": [
        "\n",
        "def beta_sensitivity(x, y):\n",
        "\n",
        "    sensitivity = []\n",
        "\n",
        "\n",
        "    covariance = np.cov(x, y)[0, 1]\n",
        "    variance = np.var(x)\n",
        "    original_beta = covariance / variance\n",
        "    sensitivity.append((None, original_beta))\n",
        "\n",
        "\n",
        "    for i in range(len(x)):\n",
        "        x_temp = np.delete(x, i).reshape(-1, 1)\n",
        "        y_temp = np.delete(y, i)\n",
        "        covariance_temp = np.cov(x_temp.flatten(), y_temp)[0, 1]\n",
        "        beta = covariance_temp / variance\n",
        "        sensitivity.append((i, beta))\n",
        "\n",
        "    return sensitivity\n",
        "\n",
        "\n",
        "\n",
        "result = beta_sensitivity(x, y)\n",
        "print(result)\n",
        "\n"
      ]
    },
    {
      "cell_type": "markdown",
      "metadata": {
        "id": "L9u4bfjtf1pj"
      },
      "source": [
        "11. Call beta_sensitivity() on the arrays A and SP from earlier and print the first ten tuples of output."
      ]
    },
    {
      "cell_type": "code",
      "source": [
        "result = beta_sensitivity(aapl_excess_returns_numpy_arrays, spy_excess_returns_numpy_arrays)\n",
        "\n",
        "\n",
        "print(\"First ten tuples of output:\")\n",
        "for i in range(10):\n",
        "    print(result[i])"
      ],
      "metadata": {
        "colab": {
          "base_uri": "https://localhost:8080/"
        },
        "id": "5HNv_7PRsswW",
        "outputId": "f36698c4-e96d-428a-9429-9e4b5520cab5"
      },
      "execution_count": 147,
      "outputs": [
        {
          "output_type": "stream",
          "name": "stdout",
          "text": [
            "First ten tuples of output:\n",
            "(None, 0.777848406594663)\n",
            "(0, 0.7830250452986799)\n",
            "(1, 0.7836037171787876)\n",
            "(2, 0.7835715656993556)\n",
            "(3, 0.7832476109707058)\n",
            "(4, 0.7828602913309494)\n",
            "(5, 0.7837348190750719)\n",
            "(6, 0.7828410652474687)\n",
            "(7, 0.7835168140476136)\n",
            "(8, 0.7838354148041127)\n"
          ]
        }
      ]
    }
  ],
  "metadata": {
    "kernelspec": {
      "display_name": "Python 3.8.9 64-bit",
      "language": "python",
      "name": "python3"
    },
    "language_info": {
      "codemirror_mode": {
        "name": "ipython",
        "version": 3
      },
      "file_extension": ".py",
      "mimetype": "text/x-python",
      "name": "python",
      "nbconvert_exporter": "python",
      "pygments_lexer": "ipython3",
      "version": "3.8.9"
    },
    "vscode": {
      "interpreter": {
        "hash": "31f2aee4e71d21fbe5cf8b01ff0e069b9275f58929596ceb00d14d90e3e16cd6"
      }
    },
    "colab": {
      "provenance": [],
      "include_colab_link": true
    }
  },
  "nbformat": 4,
  "nbformat_minor": 0
}